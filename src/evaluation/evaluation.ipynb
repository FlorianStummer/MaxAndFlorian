{
 "cells": [
  {
   "cell_type": "code",
   "execution_count": 2,
   "metadata": {},
   "outputs": [],
   "source": [
    "%load_ext autoreload\n",
    "%autoreload 2"
   ]
  },
  {
   "cell_type": "code",
   "execution_count": 3,
   "metadata": {},
   "outputs": [],
   "source": [
    "import sys\n",
    "import os\n",
    "import numpy as np\n",
    "import glob\n",
    "import matplotlib.pyplot as plt\n",
    "from mpl_toolkits.axes_grid1 import make_axes_locatable\n",
    "from matplotlib.colors import LogNorm\n",
    "from matplotlib.ticker import MultipleLocator\n",
    "import pandas as pd\n",
    "\n",
    "import torch\n",
    "import torch.nn as nn\n",
    "from torch import optim\n",
    "from torch.utils.data import DataLoader\n",
    "from torch.utils.data import Dataset\n",
    "\n",
    "from CustomDatasets import SingleMagnetDataset\n",
    "from Unet_MaxProkop import UNet\n",
    "import functions"
   ]
  },
  {
   "attachments": {},
   "cell_type": "markdown",
   "metadata": {},
   "source": [
    "##### Load up dataset"
   ]
  },
  {
   "cell_type": "code",
   "execution_count": 4,
   "metadata": {},
   "outputs": [
    {
     "name": "stdout",
     "output_type": "stream",
     "text": [
      "(4, 120, 80) (2, 120, 80) 203\n"
     ]
    }
   ],
   "source": [
    "if os.path.exists(\"../../Stage_magnet\"):\n",
    "    new_magnet_folder = \"../../Stage_magnet_cached\"\n",
    "else:\n",
    "    new_magnet_folder = \"../Stage_magnet_cached\"\n",
    "val_set = SingleMagnetDataset(new_magnet_folder, (0.80,0.81),maximum_elements=20480)\n",
    "val_loader = DataLoader(val_set,1)\n",
    "print(val_set[0][0].shape,val_set[0][1].shape, len(val_set))"
   ]
  },
  {
   "attachments": {},
   "cell_type": "markdown",
   "metadata": {},
   "source": [
    "##### Load up Model "
   ]
  },
  {
   "cell_type": "code",
   "execution_count": 5,
   "metadata": {},
   "outputs": [
    {
     "name": "stdout",
     "output_type": "stream",
     "text": [
      "cpu\n"
     ]
    },
    {
     "data": {
      "text/plain": [
       "<All keys matched successfully>"
      ]
     },
     "execution_count": 5,
     "metadata": {},
     "output_type": "execute_result"
    }
   ],
   "source": [
    "model = UNet(in_channels=4,out_channels=2,depth=4)\n",
    "\n",
    "if torch.cuda.is_available():\n",
    "    device = 'cuda'\n",
    "elif torch.has_mps:\n",
    "    device = 'mps'\n",
    "else:\n",
    "    device = 'cpu'\n",
    "print(device)\n",
    "\n",
    "model.load_state_dict(torch.load(\"last_checkpoint_cpu.pth\",map_location=device))"
   ]
  },
  {
   "attachments": {},
   "cell_type": "markdown",
   "metadata": {},
   "source": [
    "##### Forward the entire validation set\n",
    "\n",
    "Compute Maximal and Average absolute error in x and y, also combine x,y to vector and compute maximal and average angle error and magnitude error\n",
    "\n",
    "Several Problems: \n",
    "- In some pixels the field strength is 0 and then the angle is undefined, For these cases we can enable a filter in the evaluate function that only consideres pixels where the total field strength of the target (vector magnitude) is above some threshold\n",
    "- This is not enough, if the prediction is o for some pixel that is supposed to have a vector with magnitude above the threshold, we still get 0/0. Here we say the model is completely off and assign the maximum angle of PI\n",
    "\n",
    "For max and avg absolute error, also save index of worst and of median sample"
   ]
  },
  {
   "cell_type": "code",
   "execution_count": 20,
   "metadata": {},
   "outputs": [],
   "source": [
    "def evaluate(inp,tar,use_mask,filter_threshold=0.7):\n",
    "    pred = model(inp.float()).squeeze().detach()\n",
    "    tar = tar.squeeze().detach()\n",
    "\n",
    "    abs_error = torch.abs(pred-tar)\n",
    "\n",
    "    dot = (pred * tar).sum(dim=0)\n",
    "    mag_pred = torch.sqrt((pred * pred).sum(dim=0))\n",
    "    mag_tar = torch.sqrt((tar * tar).sum(dim=0))\n",
    "    mag_abs_error = torch.abs(mag_pred - mag_tar)\n",
    "\n",
    "    # This minimum is due to numerical errors as acos of 1.000001 is Nan\n",
    "    frac = torch.minimum(dot / (mag_pred * mag_tar),torch.ones_like(dot))\n",
    "\n",
    "    # This nan_to_num are the cases where we predict 0 but ther should be a vector. This is treated as being maximally off\n",
    "    angles = torch.nan_to_num(torch.acos(frac), nan=3.141529)\n",
    "\n",
    "    mask = (mag_tar > filter_threshold if use_mask else torch.ones_like(inp[0,0,:,:]) == 1) \n",
    "\n",
    "    return [abs_error[0,:,:][mask].max(),\n",
    "            abs_error[1,:,:][mask].max(),\n",
    "            abs_error[0,:,:][mask].mean(),\n",
    "            abs_error[1,:,:][mask].mean(),\n",
    "            angles[mask].max(),\n",
    "            angles[mask].mean(),\n",
    "            mag_abs_error[mask].max(),\n",
    "            mag_abs_error[mask].mean()\n",
    "    ]\n"
   ]
  },
  {
   "cell_type": "code",
   "execution_count": 21,
   "metadata": {},
   "outputs": [
    {
     "data": {
      "text/plain": [
       "[tensor(1.4304, dtype=torch.float64),\n",
       " tensor(1.0178, dtype=torch.float64),\n",
       " tensor(0.5502, dtype=torch.float64),\n",
       " tensor(0.3520, dtype=torch.float64),\n",
       " tensor(1.1417, dtype=torch.float64),\n",
       " tensor(0.2389, dtype=torch.float64),\n",
       " tensor(1.3843, dtype=torch.float64),\n",
       " tensor(0.7532, dtype=torch.float64)]"
      ]
     },
     "execution_count": 21,
     "metadata": {},
     "output_type": "execute_result"
    }
   ],
   "source": [
    "evaluate(torch.tensor(val_set[0][0]).unsqueeze(0),torch.tensor(val_set[0][1]),True)"
   ]
  },
  {
   "cell_type": "code",
   "execution_count": 22,
   "metadata": {},
   "outputs": [],
   "source": [
    "unfiltered = [evaluate(inp,tar,False) for(inp, tar) in val_loader]\n",
    "filtered = [evaluate(inp,tar,True) for(inp, tar) in val_loader]"
   ]
  },
  {
   "cell_type": "code",
   "execution_count": 23,
   "metadata": {},
   "outputs": [],
   "source": [
    "names= [\"max_abs_error_x\",\"max_abs_error_y\",\"mean_abs_error_x\",\"mean_abs_error_y\",\"max_angular_error\",\"mean_angular_error\",\"max_abs_error_magnitude\",\"mean_abs_error_magnitude\"]\n",
    "df_unfiltered = pd.DataFrame(unfiltered,columns=names)\n",
    "df_filtered = pd.DataFrame(filtered,columns=names)"
   ]
  },
  {
   "cell_type": "code",
   "execution_count": 24,
   "metadata": {},
   "outputs": [
    {
     "data": {
      "text/html": [
       "<div>\n",
       "<style scoped>\n",
       "    .dataframe tbody tr th:only-of-type {\n",
       "        vertical-align: middle;\n",
       "    }\n",
       "\n",
       "    .dataframe tbody tr th {\n",
       "        vertical-align: top;\n",
       "    }\n",
       "\n",
       "    .dataframe thead th {\n",
       "        text-align: right;\n",
       "    }\n",
       "</style>\n",
       "<table border=\"1\" class=\"dataframe\">\n",
       "  <thead>\n",
       "    <tr style=\"text-align: right;\">\n",
       "      <th></th>\n",
       "      <th>max_abs_error_x</th>\n",
       "      <th>max_abs_error_y</th>\n",
       "      <th>mean_abs_error_x</th>\n",
       "      <th>mean_abs_error_y</th>\n",
       "      <th>max_angular_error</th>\n",
       "      <th>mean_angular_error</th>\n",
       "      <th>max_abs_error_magnitude</th>\n",
       "      <th>mean_abs_error_magnitude</th>\n",
       "    </tr>\n",
       "  </thead>\n",
       "  <tbody>\n",
       "    <tr>\n",
       "      <th>0</th>\n",
       "      <td>tensor(1.4304, dtype=torch.float64)</td>\n",
       "      <td>tensor(1.0178, dtype=torch.float64)</td>\n",
       "      <td>tensor(0.0833, dtype=torch.float64)</td>\n",
       "      <td>tensor(0.0677, dtype=torch.float64)</td>\n",
       "      <td>tensor(nan, dtype=torch.float64)</td>\n",
       "      <td>tensor(nan, dtype=torch.float64)</td>\n",
       "      <td>tensor(1.3843, dtype=torch.float64)</td>\n",
       "      <td>tensor(0.1231, dtype=torch.float64)</td>\n",
       "    </tr>\n",
       "    <tr>\n",
       "      <th>1</th>\n",
       "      <td>tensor(1.1838, dtype=torch.float64)</td>\n",
       "      <td>tensor(1.3640, dtype=torch.float64)</td>\n",
       "      <td>tensor(0.0900, dtype=torch.float64)</td>\n",
       "      <td>tensor(0.0628, dtype=torch.float64)</td>\n",
       "      <td>tensor(nan, dtype=torch.float64)</td>\n",
       "      <td>tensor(nan, dtype=torch.float64)</td>\n",
       "      <td>tensor(1.3668, dtype=torch.float64)</td>\n",
       "      <td>tensor(0.1298, dtype=torch.float64)</td>\n",
       "    </tr>\n",
       "    <tr>\n",
       "      <th>2</th>\n",
       "      <td>tensor(1.4782, dtype=torch.float64)</td>\n",
       "      <td>tensor(1.0792, dtype=torch.float64)</td>\n",
       "      <td>tensor(0.0536, dtype=torch.float64)</td>\n",
       "      <td>tensor(0.0538, dtype=torch.float64)</td>\n",
       "      <td>tensor(nan, dtype=torch.float64)</td>\n",
       "      <td>tensor(nan, dtype=torch.float64)</td>\n",
       "      <td>tensor(1.4639, dtype=torch.float64)</td>\n",
       "      <td>tensor(0.0878, dtype=torch.float64)</td>\n",
       "    </tr>\n",
       "    <tr>\n",
       "      <th>3</th>\n",
       "      <td>tensor(1.2139, dtype=torch.float64)</td>\n",
       "      <td>tensor(1.5029, dtype=torch.float64)</td>\n",
       "      <td>tensor(0.0357, dtype=torch.float64)</td>\n",
       "      <td>tensor(0.0457, dtype=torch.float64)</td>\n",
       "      <td>tensor(nan, dtype=torch.float64)</td>\n",
       "      <td>tensor(nan, dtype=torch.float64)</td>\n",
       "      <td>tensor(1.5031, dtype=torch.float64)</td>\n",
       "      <td>tensor(0.0658, dtype=torch.float64)</td>\n",
       "    </tr>\n",
       "    <tr>\n",
       "      <th>4</th>\n",
       "      <td>tensor(1.3804, dtype=torch.float64)</td>\n",
       "      <td>tensor(1.3513, dtype=torch.float64)</td>\n",
       "      <td>tensor(0.1303, dtype=torch.float64)</td>\n",
       "      <td>tensor(0.0684, dtype=torch.float64)</td>\n",
       "      <td>tensor(nan, dtype=torch.float64)</td>\n",
       "      <td>tensor(nan, dtype=torch.float64)</td>\n",
       "      <td>tensor(1.3918, dtype=torch.float64)</td>\n",
       "      <td>tensor(0.1692, dtype=torch.float64)</td>\n",
       "    </tr>\n",
       "  </tbody>\n",
       "</table>\n",
       "</div>"
      ],
      "text/plain": [
       "                       max_abs_error_x                      max_abs_error_y  \\\n",
       "0  tensor(1.4304, dtype=torch.float64)  tensor(1.0178, dtype=torch.float64)   \n",
       "1  tensor(1.1838, dtype=torch.float64)  tensor(1.3640, dtype=torch.float64)   \n",
       "2  tensor(1.4782, dtype=torch.float64)  tensor(1.0792, dtype=torch.float64)   \n",
       "3  tensor(1.2139, dtype=torch.float64)  tensor(1.5029, dtype=torch.float64)   \n",
       "4  tensor(1.3804, dtype=torch.float64)  tensor(1.3513, dtype=torch.float64)   \n",
       "\n",
       "                      mean_abs_error_x                     mean_abs_error_y  \\\n",
       "0  tensor(0.0833, dtype=torch.float64)  tensor(0.0677, dtype=torch.float64)   \n",
       "1  tensor(0.0900, dtype=torch.float64)  tensor(0.0628, dtype=torch.float64)   \n",
       "2  tensor(0.0536, dtype=torch.float64)  tensor(0.0538, dtype=torch.float64)   \n",
       "3  tensor(0.0357, dtype=torch.float64)  tensor(0.0457, dtype=torch.float64)   \n",
       "4  tensor(0.1303, dtype=torch.float64)  tensor(0.0684, dtype=torch.float64)   \n",
       "\n",
       "                  max_angular_error                mean_angular_error  \\\n",
       "0  tensor(nan, dtype=torch.float64)  tensor(nan, dtype=torch.float64)   \n",
       "1  tensor(nan, dtype=torch.float64)  tensor(nan, dtype=torch.float64)   \n",
       "2  tensor(nan, dtype=torch.float64)  tensor(nan, dtype=torch.float64)   \n",
       "3  tensor(nan, dtype=torch.float64)  tensor(nan, dtype=torch.float64)   \n",
       "4  tensor(nan, dtype=torch.float64)  tensor(nan, dtype=torch.float64)   \n",
       "\n",
       "               max_abs_error_magnitude             mean_abs_error_magnitude  \n",
       "0  tensor(1.3843, dtype=torch.float64)  tensor(0.1231, dtype=torch.float64)  \n",
       "1  tensor(1.3668, dtype=torch.float64)  tensor(0.1298, dtype=torch.float64)  \n",
       "2  tensor(1.4639, dtype=torch.float64)  tensor(0.0878, dtype=torch.float64)  \n",
       "3  tensor(1.5031, dtype=torch.float64)  tensor(0.0658, dtype=torch.float64)  \n",
       "4  tensor(1.3918, dtype=torch.float64)  tensor(0.1692, dtype=torch.float64)  "
      ]
     },
     "execution_count": 24,
     "metadata": {},
     "output_type": "execute_result"
    }
   ],
   "source": [
    "df_unfiltered.head()"
   ]
  },
  {
   "cell_type": "code",
   "execution_count": 19,
   "metadata": {},
   "outputs": [
    {
     "data": {
      "text/html": [
       "<div>\n",
       "<style scoped>\n",
       "    .dataframe tbody tr th:only-of-type {\n",
       "        vertical-align: middle;\n",
       "    }\n",
       "\n",
       "    .dataframe tbody tr th {\n",
       "        vertical-align: top;\n",
       "    }\n",
       "\n",
       "    .dataframe thead th {\n",
       "        text-align: right;\n",
       "    }\n",
       "</style>\n",
       "<table border=\"1\" class=\"dataframe\">\n",
       "  <thead>\n",
       "    <tr style=\"text-align: right;\">\n",
       "      <th></th>\n",
       "      <th>max_abs_error_x</th>\n",
       "      <th>max_abs_error_y</th>\n",
       "      <th>mean_abs_error_x</th>\n",
       "      <th>mean_abs_error_y</th>\n",
       "      <th>max_angular_error</th>\n",
       "      <th>mean_angular_error</th>\n",
       "      <th>max_abs_error_magnitude</th>\n",
       "      <th>mean_abs_error_magnitude</th>\n",
       "    </tr>\n",
       "  </thead>\n",
       "  <tbody>\n",
       "    <tr>\n",
       "      <th>0</th>\n",
       "      <td>tensor(1.4304, dtype=torch.float64)</td>\n",
       "      <td>tensor(1.0178, dtype=torch.float64)</td>\n",
       "      <td>tensor(0.5502, dtype=torch.float64)</td>\n",
       "      <td>tensor(0.3520, dtype=torch.float64)</td>\n",
       "      <td>tensor(1.1417, dtype=torch.float64)</td>\n",
       "      <td>tensor(0.2389, dtype=torch.float64)</td>\n",
       "      <td>tensor(1.3843, dtype=torch.float64)</td>\n",
       "      <td>tensor(0.7532, dtype=torch.float64)</td>\n",
       "    </tr>\n",
       "    <tr>\n",
       "      <th>1</th>\n",
       "      <td>tensor(1.1838, dtype=torch.float64)</td>\n",
       "      <td>tensor(1.3640, dtype=torch.float64)</td>\n",
       "      <td>tensor(0.5466, dtype=torch.float64)</td>\n",
       "      <td>tensor(0.3845, dtype=torch.float64)</td>\n",
       "      <td>tensor(1.5667, dtype=torch.float64)</td>\n",
       "      <td>tensor(0.1271, dtype=torch.float64)</td>\n",
       "      <td>tensor(1.3668, dtype=torch.float64)</td>\n",
       "      <td>tensor(0.8336, dtype=torch.float64)</td>\n",
       "    </tr>\n",
       "    <tr>\n",
       "      <th>2</th>\n",
       "      <td>tensor(1.4782, dtype=torch.float64)</td>\n",
       "      <td>tensor(1.0792, dtype=torch.float64)</td>\n",
       "      <td>tensor(0.4468, dtype=torch.float64)</td>\n",
       "      <td>tensor(0.4047, dtype=torch.float64)</td>\n",
       "      <td>tensor(2.9126, dtype=torch.float64)</td>\n",
       "      <td>tensor(0.2328, dtype=torch.float64)</td>\n",
       "      <td>tensor(1.4639, dtype=torch.float64)</td>\n",
       "      <td>tensor(0.7169, dtype=torch.float64)</td>\n",
       "    </tr>\n",
       "    <tr>\n",
       "      <th>3</th>\n",
       "      <td>tensor(1.2139, dtype=torch.float64)</td>\n",
       "      <td>tensor(1.5029, dtype=torch.float64)</td>\n",
       "      <td>tensor(0.4088, dtype=torch.float64)</td>\n",
       "      <td>tensor(0.5049, dtype=torch.float64)</td>\n",
       "      <td>tensor(1.5172, dtype=torch.float64)</td>\n",
       "      <td>tensor(0.2203, dtype=torch.float64)</td>\n",
       "      <td>tensor(1.5031, dtype=torch.float64)</td>\n",
       "      <td>tensor(0.7822, dtype=torch.float64)</td>\n",
       "    </tr>\n",
       "    <tr>\n",
       "      <th>4</th>\n",
       "      <td>tensor(1.3804, dtype=torch.float64)</td>\n",
       "      <td>tensor(1.3513, dtype=torch.float64)</td>\n",
       "      <td>tensor(0.7928, dtype=torch.float64)</td>\n",
       "      <td>tensor(0.3354, dtype=torch.float64)</td>\n",
       "      <td>tensor(0.8979, dtype=torch.float64)</td>\n",
       "      <td>tensor(0.2010, dtype=torch.float64)</td>\n",
       "      <td>tensor(1.3918, dtype=torch.float64)</td>\n",
       "      <td>tensor(0.9822, dtype=torch.float64)</td>\n",
       "    </tr>\n",
       "  </tbody>\n",
       "</table>\n",
       "</div>"
      ],
      "text/plain": [
       "                       max_abs_error_x                      max_abs_error_y  \\\n",
       "0  tensor(1.4304, dtype=torch.float64)  tensor(1.0178, dtype=torch.float64)   \n",
       "1  tensor(1.1838, dtype=torch.float64)  tensor(1.3640, dtype=torch.float64)   \n",
       "2  tensor(1.4782, dtype=torch.float64)  tensor(1.0792, dtype=torch.float64)   \n",
       "3  tensor(1.2139, dtype=torch.float64)  tensor(1.5029, dtype=torch.float64)   \n",
       "4  tensor(1.3804, dtype=torch.float64)  tensor(1.3513, dtype=torch.float64)   \n",
       "\n",
       "                      mean_abs_error_x                     mean_abs_error_y  \\\n",
       "0  tensor(0.5502, dtype=torch.float64)  tensor(0.3520, dtype=torch.float64)   \n",
       "1  tensor(0.5466, dtype=torch.float64)  tensor(0.3845, dtype=torch.float64)   \n",
       "2  tensor(0.4468, dtype=torch.float64)  tensor(0.4047, dtype=torch.float64)   \n",
       "3  tensor(0.4088, dtype=torch.float64)  tensor(0.5049, dtype=torch.float64)   \n",
       "4  tensor(0.7928, dtype=torch.float64)  tensor(0.3354, dtype=torch.float64)   \n",
       "\n",
       "                     max_angular_error                   mean_angular_error  \\\n",
       "0  tensor(1.1417, dtype=torch.float64)  tensor(0.2389, dtype=torch.float64)   \n",
       "1  tensor(1.5667, dtype=torch.float64)  tensor(0.1271, dtype=torch.float64)   \n",
       "2  tensor(2.9126, dtype=torch.float64)  tensor(0.2328, dtype=torch.float64)   \n",
       "3  tensor(1.5172, dtype=torch.float64)  tensor(0.2203, dtype=torch.float64)   \n",
       "4  tensor(0.8979, dtype=torch.float64)  tensor(0.2010, dtype=torch.float64)   \n",
       "\n",
       "               max_abs_error_magnitude             mean_abs_error_magnitude  \n",
       "0  tensor(1.3843, dtype=torch.float64)  tensor(0.7532, dtype=torch.float64)  \n",
       "1  tensor(1.3668, dtype=torch.float64)  tensor(0.8336, dtype=torch.float64)  \n",
       "2  tensor(1.4639, dtype=torch.float64)  tensor(0.7169, dtype=torch.float64)  \n",
       "3  tensor(1.5031, dtype=torch.float64)  tensor(0.7822, dtype=torch.float64)  \n",
       "4  tensor(1.3918, dtype=torch.float64)  tensor(0.9822, dtype=torch.float64)  "
      ]
     },
     "execution_count": 19,
     "metadata": {},
     "output_type": "execute_result"
    }
   ],
   "source": [
    "df_filtered.head()"
   ]
  },
  {
   "cell_type": "code",
   "execution_count": 13,
   "metadata": {},
   "outputs": [
    {
     "data": {
      "image/png": "[encoded data removed]",
      "text/plain": [
       "<Figure size 576x432 with 8 Axes>"
      ]
     },
     "metadata": {
      "needs_background": "light"
     },
     "output_type": "display_data"
    }
   ],
   "source": [
    "idx = 0\n",
    "sample = val_set[idx]\n",
    "pred = model(torch.tensor(sample[0]).float().unsqueeze(0)).detach()\n",
    "\n",
    "fig, axes = plt.subplots(2,2,figsize=(8,6))\n",
    "\n",
    "for i, name, image in zip(range(4),[\"pred_x\",\"pred_y\",\"target_x\",\"target_y\"], [pred[0,0,:,:],pred[0,1,:,:],sample[1][0,:,:],sample[1][1,:,:]]):\n",
    "    im = axes[i//2,i%2].imshow(image.T, cmap='jet',interpolation='none')\n",
    "    axes[i//2,i%2].set_title(name)\n",
    "\n",
    "    divider = make_axes_locatable(axes[i//2,i%2])\n",
    "    cax = divider.append_axes(\"right\", size=\"20%\", pad=0.05)\n",
    "    cbar = plt.colorbar(im, cax=cax, ticks=MultipleLocator(0.5), format=\"%.2f\")"
   ]
  },
  {
   "cell_type": "code",
   "execution_count": null,
   "metadata": {},
   "outputs": [],
   "source": []
  }
 ],
 "metadata": {
  "kernelspec": {
   "display_name": "Python 3",
   "language": "python",
   "name": "python3"
  },
  "language_info": {
   "codemirror_mode": {
    "name": "ipython",
    "version": 3
   },
   "file_extension": ".py",
   "mimetype": "text/x-python",
   "name": "python",
   "nbconvert_exporter": "python",
   "pygments_lexer": "ipython3",
   "version": "3.8.10"
  },
  "orig_nbformat": 4,
  "vscode": {
   "interpreter": {
    "hash": "916dbcbb3f70747c44a77c7bcd40155683ae19c65e1c03b4aa3499c5328201f1"
   }
  }
 },
 "nbformat": 4,
 "nbformat_minor": 2
}
