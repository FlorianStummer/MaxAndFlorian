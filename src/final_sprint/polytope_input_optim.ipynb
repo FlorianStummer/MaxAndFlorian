{
 "cells": [
  {
   "cell_type": "code",
   "execution_count": 1,
   "metadata": {},
   "outputs": [],
   "source": [
    "import torch\n",
    "import torch.nn as nn\n",
    "import scipy.optimize as optimize\n",
    "import data.datasets as dataSource\n",
    "import torch.utils.data as tdata\n",
    "import numpy as np\n"
   ]
  },
  {
   "cell_type": "markdown",
   "metadata": {},
   "source": [
    "Designer:\n",
    "- mins and max in dataset, split dataset in two \n",
    "\n",
    "Here: \n",
    "- get Mask with \"important_columns\"\n",
    "- MLP with batchnorm and initial batchnorm (should replace need for scaler)\n",
    "- train + val loop for new network\n",
    "- constraints from min, max\n",
    "- constraints from designer.py in magnetdesigner\n",
    "- project_to_polytope with optimize.minimize (https://stackoverflow.com/questions/17009774/quadratic-program-qp-solver-that-only-depends-on-numpy-scipy)\n",
    "- input optim loop without optimizer:\n",
    "    - loss_fun and tuple of interest as in other pynb\n",
    "    - create x with requires_grad\n",
    "    - for step in steps\n",
    "        - x.grad.zero_()\n",
    "        - for param in network param.grad.zero_()\n",
    "        - forward, loss, backward\n",
    "        - x = x - lr * x.grad\n",
    "        - x = project_to_poly()\n",
    "        - x.requires_grad_(True)    "
   ]
  },
  {
   "cell_type": "code",
   "execution_count": 2,
   "metadata": {},
   "outputs": [],
   "source": [
    "dataset_train, dataset_val = dataSource.Dipole_H_train, dataSource.Dipole_H_val\n",
    "important_cols = [\"aper_x\", \"aper_y\", \"aper_x_tapering\", \"yoke_x\", \"yoke_y\", \"w\", \"w_leg\", \"totalCurrent\"]\n",
    "input_mask = [True if col in important_cols else False for col in dataset_train.input_columns]\n",
    "train_loader, val_loader = tdata.DataLoader(dataset_train,64), tdata.DataLoader(dataset_val,64)\n",
    "\n",
    "target_index_dict = {col:i for i,col in enumerate(dataset_train.target_columns)}\n"
   ]
  },
  {
   "cell_type": "code",
   "execution_count": 3,
   "metadata": {},
   "outputs": [],
   "source": [
    "class MyRegNet(nn.Module):\n",
    "    def __init__(self,h_size=32):\n",
    "        super().__init__()\n",
    "        self.bn0 = nn.BatchNorm1d(len(important_cols), dtype=torch.double)\n",
    "        self.fc1 = nn.Linear(len(important_cols),h_size, dtype=torch.double)\n",
    "        self.nl1 = nn.LeakyReLU()\n",
    "        self.bn1 = nn.BatchNorm1d(h_size, dtype=torch.double)\n",
    "        self.fc2 = nn.Linear(h_size,h_size, dtype=torch.double)\n",
    "        self.nl2 = nn.LeakyReLU()\n",
    "        self.bn2 = nn.BatchNorm1d(h_size, dtype=torch.double)\n",
    "        self.fc3 = nn.Linear(h_size,33, dtype=torch.double)\n",
    "    def forward(self,x):\n",
    "        x = self.bn0(x)\n",
    "        x = self.fc1(x)\n",
    "        x = self.nl1(x)\n",
    "        x = self.bn1(x)\n",
    "        x = self.fc2(x)\n",
    "        x = self.nl2(x)\n",
    "        x = self.bn2(x)\n",
    "        x = self.fc3(x)\n",
    "        return x\n",
    "\n",
    "network = MyRegNet()"
   ]
  },
  {
   "cell_type": "code",
   "execution_count": 4,
   "metadata": {},
   "outputs": [
    {
     "name": "stdout",
     "output_type": "stream",
     "text": [
      "8 tensor(0.0023) tensor(0.0015)\r"
     ]
    },
    {
     "ename": "KeyboardInterrupt",
     "evalue": "",
     "output_type": "error",
     "traceback": [
      "\u001b[0;31m---------------------------------------------------------------------------\u001b[0m",
      "\u001b[0;31mKeyboardInterrupt\u001b[0m                         Traceback (most recent call last)",
      "Cell \u001b[0;32mIn[4], line 15\u001b[0m\n\u001b[1;32m     13\u001b[0m     loss_list\u001b[38;5;241m.\u001b[39mappend(loss\u001b[38;5;241m.\u001b[39mdetach()\u001b[38;5;241m.\u001b[39mitem())\n\u001b[1;32m     14\u001b[0m     optim\u001b[38;5;241m.\u001b[39mzero_grad()\n\u001b[0;32m---> 15\u001b[0m     \u001b[43mloss\u001b[49m\u001b[38;5;241;43m.\u001b[39;49m\u001b[43mbackward\u001b[49m\u001b[43m(\u001b[49m\u001b[43m)\u001b[49m\n\u001b[1;32m     16\u001b[0m     optim\u001b[38;5;241m.\u001b[39mstep()\n\u001b[1;32m     17\u001b[0m epoch_train_loss \u001b[38;5;241m=\u001b[39m torch\u001b[38;5;241m.\u001b[39mtensor(loss_list)\u001b[38;5;241m.\u001b[39mmean()\n",
      "File \u001b[0;32m~/myVenv/lib/python3.10/site-packages/torch/_tensor.py:492\u001b[0m, in \u001b[0;36mTensor.backward\u001b[0;34m(self, gradient, retain_graph, create_graph, inputs)\u001b[0m\n\u001b[1;32m    482\u001b[0m \u001b[38;5;28;01mif\u001b[39;00m has_torch_function_unary(\u001b[38;5;28mself\u001b[39m):\n\u001b[1;32m    483\u001b[0m     \u001b[38;5;28;01mreturn\u001b[39;00m handle_torch_function(\n\u001b[1;32m    484\u001b[0m         Tensor\u001b[38;5;241m.\u001b[39mbackward,\n\u001b[1;32m    485\u001b[0m         (\u001b[38;5;28mself\u001b[39m,),\n\u001b[0;32m   (...)\u001b[0m\n\u001b[1;32m    490\u001b[0m         inputs\u001b[38;5;241m=\u001b[39minputs,\n\u001b[1;32m    491\u001b[0m     )\n\u001b[0;32m--> 492\u001b[0m \u001b[43mtorch\u001b[49m\u001b[38;5;241;43m.\u001b[39;49m\u001b[43mautograd\u001b[49m\u001b[38;5;241;43m.\u001b[39;49m\u001b[43mbackward\u001b[49m\u001b[43m(\u001b[49m\n\u001b[1;32m    493\u001b[0m \u001b[43m    \u001b[49m\u001b[38;5;28;43mself\u001b[39;49m\u001b[43m,\u001b[49m\u001b[43m \u001b[49m\u001b[43mgradient\u001b[49m\u001b[43m,\u001b[49m\u001b[43m \u001b[49m\u001b[43mretain_graph\u001b[49m\u001b[43m,\u001b[49m\u001b[43m \u001b[49m\u001b[43mcreate_graph\u001b[49m\u001b[43m,\u001b[49m\u001b[43m \u001b[49m\u001b[43minputs\u001b[49m\u001b[38;5;241;43m=\u001b[39;49m\u001b[43minputs\u001b[49m\n\u001b[1;32m    494\u001b[0m \u001b[43m\u001b[49m\u001b[43m)\u001b[49m\n",
      "File \u001b[0;32m~/myVenv/lib/python3.10/site-packages/torch/autograd/__init__.py:251\u001b[0m, in \u001b[0;36mbackward\u001b[0;34m(tensors, grad_tensors, retain_graph, create_graph, grad_variables, inputs)\u001b[0m\n\u001b[1;32m    246\u001b[0m     retain_graph \u001b[38;5;241m=\u001b[39m create_graph\n\u001b[1;32m    248\u001b[0m \u001b[38;5;66;03m# The reason we repeat the same comment below is that\u001b[39;00m\n\u001b[1;32m    249\u001b[0m \u001b[38;5;66;03m# some Python versions print out the first line of a multi-line function\u001b[39;00m\n\u001b[1;32m    250\u001b[0m \u001b[38;5;66;03m# calls in the traceback and some print out the last line\u001b[39;00m\n\u001b[0;32m--> 251\u001b[0m \u001b[43mVariable\u001b[49m\u001b[38;5;241;43m.\u001b[39;49m\u001b[43m_execution_engine\u001b[49m\u001b[38;5;241;43m.\u001b[39;49m\u001b[43mrun_backward\u001b[49m\u001b[43m(\u001b[49m\u001b[43m  \u001b[49m\u001b[38;5;66;43;03m# Calls into the C++ engine to run the backward pass\u001b[39;49;00m\n\u001b[1;32m    252\u001b[0m \u001b[43m    \u001b[49m\u001b[43mtensors\u001b[49m\u001b[43m,\u001b[49m\n\u001b[1;32m    253\u001b[0m \u001b[43m    \u001b[49m\u001b[43mgrad_tensors_\u001b[49m\u001b[43m,\u001b[49m\n\u001b[1;32m    254\u001b[0m \u001b[43m    \u001b[49m\u001b[43mretain_graph\u001b[49m\u001b[43m,\u001b[49m\n\u001b[1;32m    255\u001b[0m \u001b[43m    \u001b[49m\u001b[43mcreate_graph\u001b[49m\u001b[43m,\u001b[49m\n\u001b[1;32m    256\u001b[0m \u001b[43m    \u001b[49m\u001b[43minputs\u001b[49m\u001b[43m,\u001b[49m\n\u001b[1;32m    257\u001b[0m \u001b[43m    \u001b[49m\u001b[43mallow_unreachable\u001b[49m\u001b[38;5;241;43m=\u001b[39;49m\u001b[38;5;28;43;01mTrue\u001b[39;49;00m\u001b[43m,\u001b[49m\n\u001b[1;32m    258\u001b[0m \u001b[43m    \u001b[49m\u001b[43maccumulate_grad\u001b[49m\u001b[38;5;241;43m=\u001b[39;49m\u001b[38;5;28;43;01mTrue\u001b[39;49;00m\u001b[43m,\u001b[49m\n\u001b[1;32m    259\u001b[0m \u001b[43m\u001b[49m\u001b[43m)\u001b[49m\n",
      "\u001b[0;31mKeyboardInterrupt\u001b[0m: "
     ]
    }
   ],
   "source": [
    "n_epochs = 100\n",
    "lr = 1e-4\n",
    "optim = torch.optim.Adam(network.parameters(), lr)\n",
    "loss_fun = nn.MSELoss()\n",
    "\n",
    "for epoch in range(n_epochs):\n",
    "    network.train()\n",
    "    loss_list = []\n",
    "    for x,y in train_loader:\n",
    "        selected_x = x[:,input_mask].double()\n",
    "        pred = network(selected_x)\n",
    "        loss = loss_fun(pred,y)\n",
    "        loss_list.append(loss.detach().item())\n",
    "        optim.zero_grad()\n",
    "        loss.backward()\n",
    "        optim.step()\n",
    "    epoch_train_loss = torch.tensor(loss_list).mean()\n",
    "\n",
    "    network.eval()\n",
    "    loss_list = []\n",
    "    for x,y in val_loader:\n",
    "        selected_x = x[:,input_mask].double()\n",
    "        pred = network(selected_x)\n",
    "        loss = loss_fun(pred,y)\n",
    "        loss_list.append(loss.detach().item())\n",
    "    epoch_val_loss = torch.tensor(loss_list).mean()\n",
    "    print(epoch,epoch_train_loss,epoch_val_loss,end=\"\\r\")\n"
   ]
  },
  {
   "cell_type": "code",
   "execution_count": 6,
   "metadata": {},
   "outputs": [],
   "source": [
    "A = []\n",
    "b = []\n",
    "\n",
    "def onehot(name, neg):\n",
    "    out = [0] * len(important_cols)\n",
    "    out[important_cols.index(name)] = -1 if neg else 1\n",
    "    return out\n",
    "\n",
    "\n",
    "# constraints for minima: x > a --> -x < -a\n",
    "for name,value in zip(important_cols,dataset_train.input_mins):\n",
    "    A.append(onehot(name,True))\n",
    "    b.append(-value)\n",
    "\n",
    "# constraints for maxima: x < a\n",
    "for name,value in zip(important_cols,dataset_train.input_mins):\n",
    "    A.append(onehot(name,False))\n",
    "    b.append(value)"
   ]
  },
  {
   "cell_type": "code",
   "execution_count": 7,
   "metadata": {},
   "outputs": [],
   "source": [
    "A_rel = []\n",
    "b_rel = []\n",
    "\n",
    "# \"aper_x\", \"aper_y\", \"aper_x_poleoverhang\", \"aper_x_tapering\", \"yoke_x\", \n",
    "# \"yoke_y\", \"w\"     , \"w_leg\"              , \"totalCurrent\"]\n",
    "\n",
    "\n",
    "# aper_x > aper_y --> aper_y - aper_x < 0\n",
    "A_rel.append([-1, 1, 0, 0, 0, 0, 0, 0, 0])\n",
    "b_rel.append(0)\n",
    "\n",
    "# aper_x < 5 * aper_y --> aper_x - 5 * aper_y < 0\n",
    "A_rel.append([1, 5, 0, 0, 0, 0, 0, 0, 0])\n",
    "b_rel.append(0)\n",
    "\n",
    "# w_leg < aper_x --> w_leg - aper_x < 0\n",
    "A_rel.append([-1, 0, 0, 0, 0, 0, 0, 1, 0])\n",
    "b_rel.append(0)\n",
    "\n",
    "## Max-made\n",
    "# w < 2*w_leg --> w - 2w_leg < 0\n",
    "A_rel.append([ 0, 0, 0, 0, 0, 0, 1,-2, 0])\n",
    "b_rel.append(0)\n",
    "\n",
    "# w_leg < w --> w_leg - 2w < 0\n",
    "A_rel.append([ 0, 0, 0, 0, 0, 0,-2, 1, 0])\n",
    "b_rel.append(0)\n",
    "\n",
    "# make coils squareish (aspect ratio of no more than 2 --> for sides a and be we have a - 2b < 0 and b - 2a < 0)\n",
    "# coil width = 0.5 yoke_x - 0.5 w - aper_tape - w_leg\n",
    "# coil height = 0.5 yoke_y - 0.6 aper_y - w_leg\n",
    "\n",
    "# coil_width - 2 coil_height < 0\n",
    "A_rel.append([ 0, 1.2, 0, -1, 0.5, -1, -0.5, 1, 0])\n",
    "b_rel.append(0)\n",
    "\n",
    "# coil_height - 2 coil_width < 0\n",
    "A_rel.append([ 0, -0.6, 0, 2, -1, 0.5, 1, 1, 0])\n",
    "b_rel.append(0)"
   ]
  },
  {
   "cell_type": "code",
   "execution_count": 8,
   "metadata": {},
   "outputs": [],
   "source": [
    "A = A + A_rel\n",
    "b = b + b_rel"
   ]
  },
  {
   "cell_type": "code",
   "execution_count": 9,
   "metadata": {},
   "outputs": [],
   "source": [
    "def project_to_poly(x, A_mat=A,b_vec = b):\n",
    "    def loss(curr_guess):\n",
    "        return np.linalg.norm(curr_guess-x)\n",
    "    cons = {'type':'ineq','fun':lambda x: b_vec - np.dot(A_mat,x)}\n",
    "    return optimize.minimize(loss, x,constraints=cons, method='SLSQP').x\n",
    "\n",
    "#A_test = [[0,1],[1,0]]\n",
    "#b_test = [1,1]\n",
    "#project_to_poly([2,0.1],A_test,b_test)"
   ]
  },
  {
   "cell_type": "code",
   "execution_count": 10,
   "metadata": {},
   "outputs": [],
   "source": [
    "tuple_of_interest = (target_index_dict[\"B0\"],target_index_dict[\"gfr_x_5e-3\"],target_index_dict[\"gfr_y_5e-3\"])\n",
    "\n",
    "target = torch.zeros(1,33)\n",
    "target[0,tuple_of_interest[0]] = 0.079589\n",
    "target[0,tuple_of_interest[1]] = 0.053487\n",
    "target[0,tuple_of_interest[2]] = 0.01\n",
    "\n",
    "def create_loss_function(tuple_of_interest):\n",
    "    mask = torch.zeros(1,33)\n",
    "    for i in tuple_of_interest:\n",
    "        mask[0,i] = 1\n",
    "    mse = torch.nn.MSELoss()\n",
    "    def instanciated_loss_function(x,y):\n",
    "        return mse(x*mask,y*mask)\n",
    "    return instanciated_loss_function\n",
    "\n",
    "loss_fun = create_loss_function(tuple_of_interest)"
   ]
  },
  {
   "cell_type": "code",
   "execution_count": 18,
   "metadata": {},
   "outputs": [
    {
     "data": {
      "text/plain": [
       "Parameter containing:\n",
       "tensor([0.6861, 1.1442, 0.9570, 0.9384, 1.0204, 1.0346, 0.8320, 0.9992],\n",
       "       dtype=torch.float64, requires_grad=True)"
      ]
     },
     "execution_count": 18,
     "metadata": {},
     "output_type": "execute_result"
    }
   ],
   "source": [
    "network.bn0.weight"
   ]
  },
  {
   "cell_type": "code",
   "execution_count": 1,
   "metadata": {},
   "outputs": [
    {
     "ename": "NameError",
     "evalue": "name 'torch' is not defined",
     "output_type": "error",
     "traceback": [
      "\u001b[0;31m---------------------------------------------------------------------------\u001b[0m",
      "\u001b[0;31mNameError\u001b[0m                                 Traceback (most recent call last)",
      "Cell \u001b[0;32mIn[1], line 1\u001b[0m\n\u001b[0;32m----> 1\u001b[0m magnet_params \u001b[38;5;241m=\u001b[39m \u001b[43mtorch\u001b[49m\u001b[38;5;241m.\u001b[39mrandn((\u001b[38;5;241m1\u001b[39m,\u001b[38;5;241m9\u001b[39m),dtype\u001b[38;5;241m=\u001b[39mtorch\u001b[38;5;241m.\u001b[39mdouble,requires_grad\u001b[38;5;241m=\u001b[39m\u001b[38;5;28;01mTrue\u001b[39;00m)\n",
      "\u001b[0;31mNameError\u001b[0m: name 'torch' is not defined"
     ]
    }
   ],
   "source": [
    "magnet_params = torch.randn((1,9),dtype=torch.double,requires_grad=True)\n",
    "\n",
    "lr = 1e-3\n",
    "\n",
    "network.eval()\n",
    "\n",
    "n_steps = 1000\n",
    "\n",
    "for step in range(n_steps):\n",
    "    magnet_params.grad.zero_()\n",
    "    for layer in network.parameters():\n",
    "        layer.grad.zero_()\n",
    "    \n",
    "    pred = network(magnet_params)\n",
    "    loss = loss_fun(pred,target)\n",
    "    loss.backward()\n",
    "\n",
    "    with torch.no_grad():\n",
    "        magnet_params = magnet_params - \n"
   ]
  },
  {
   "cell_type": "code",
   "execution_count": null,
   "metadata": {},
   "outputs": [],
   "source": []
  }
 ],
 "metadata": {
  "kernelspec": {
   "display_name": "myVenv",
   "language": "python",
   "name": "python3"
  },
  "language_info": {
   "codemirror_mode": {
    "name": "ipython",
    "version": 3
   },
   "file_extension": ".py",
   "mimetype": "text/x-python",
   "name": "python",
   "nbconvert_exporter": "python",
   "pygments_lexer": "ipython3",
   "version": "3.10.12"
  }
 },
 "nbformat": 4,
 "nbformat_minor": 2
}
