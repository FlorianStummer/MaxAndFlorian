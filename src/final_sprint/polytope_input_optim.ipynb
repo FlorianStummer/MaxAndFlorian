{
 "cells": [
  {
   "cell_type": "code",
   "execution_count": 60,
   "metadata": {},
   "outputs": [],
   "source": [
    "import torch\n",
    "import torch.nn as nn\n",
    "import scipy.optimize as optimize\n",
    "import data.datasets as dataSource\n",
    "import torch.utils.data as tdata\n",
    "import numpy as np\n",
    "import cvxpy as cp"
   ]
  },
  {
   "cell_type": "markdown",
   "metadata": {},
   "source": [
    "Designer:\n",
    "- mins and max in dataset, split dataset in two \n",
    "\n",
    "Here: \n",
    "- get Mask with \"important_columns\"\n",
    "- MLP with batchnorm and initial batchnorm (should replace need for scaler)\n",
    "- train + val loop for new network\n",
    "- constraints from min, max\n",
    "- constraints from designer.py in magnetdesigner\n",
    "- project_to_polytope with optimize.minimize (https://stackoverflow.com/questions/17009774/quadratic-program-qp-solver-that-only-depends-on-numpy-scipy)\n",
    "- input optim loop without optimizer:\n",
    "    - loss_fun and tuple of interest as in other pynb\n",
    "    - create x with requires_grad\n",
    "    - for step in steps\n",
    "        - x.grad.zero_()\n",
    "        - for param in network param.grad.zero_()\n",
    "        - forward, loss, backward\n",
    "        - x = x - lr * x.grad\n",
    "        - x = project_to_poly()\n",
    "        - x.requires_grad_(True)    "
   ]
  },
  {
   "cell_type": "code",
   "execution_count": 86,
   "metadata": {},
   "outputs": [
    {
     "name": "stdout",
     "output_type": "stream",
     "text": [
      "['aper_y', 'aper_x', 'aper_x_tapering', 'yoke_x', 'yoke_y', 'w', 'w_leg', 'totalCurrent']\n",
      "['aper_x', 'aper_y', 'aper_x_tapering', 'yoke_x', 'yoke_y', 'w', 'w_leg', 'totalCurrent']\n"
     ]
    }
   ],
   "source": [
    "dataset_train, dataset_val = dataSource.Dipole_H_train, dataSource.Dipole_H_val\n",
    "batch_size = 64\n",
    "important_cols = [\"aper_x\", \"aper_y\", \"aper_x_tapering\", \"yoke_x\", \"yoke_y\", \"w\", \"w_leg\", \"totalCurrent\"]\n",
    "important_cols_order = sorted(important_cols,key=lambda c: dataset_train.input_columns.index(c))\n",
    "\n",
    "print(important_cols)\n",
    "print(important_cols_order)\n",
    "\n",
    "input_mask = [True if col in important_cols else False for col in dataset_train.input_columns]\n",
    "train_loader, val_loader = tdata.DataLoader(dataset_train,batch_size), tdata.DataLoader(dataset_val,batch_size)\n",
    "\n",
    "target_index_dict = {col:i for i,col in enumerate(dataset_train.target_columns)}\n",
    "target_cols = [\"B0\",\"gfr_x_1e-4\",\"gfr_y_1e-4\"]\n",
    "output_mask = [True if col in target_cols else False for col in dataset_train.target_columns]\n"
   ]
  },
  {
   "cell_type": "code",
   "execution_count": 62,
   "metadata": {},
   "outputs": [],
   "source": [
    "device = torch.device(\"cuda\" if torch.cuda.is_available() else \"cpu\")"
   ]
  },
  {
   "cell_type": "code",
   "execution_count": 63,
   "metadata": {},
   "outputs": [],
   "source": [
    "oid = {key : important_cols.index(key) for key in important_cols_order}\n",
    "\n",
    "def continuous_preprocessing(x: torch.Tensor):\n",
    "    # x.shape = (b,8) with batchDim b and [\"aper_x\", \"aper_y\", \"aper_x_tapering\", \"yoke_x\", \"yoke_y\", \"w\", \"w_leg\", \"totalCurrent\"]\n",
    "    coil_width = 0.5 * x[:,oid[\"yoke_x\"]] - 0.5 * x[:,oid[\"w\"]] -  x[:,oid[\"aper_x_tapering\"]] - x[:, oid[\"w_leg\"]]\n",
    "    coil_height = 0.5 *  x[:,oid[\"yoke_y\"]] - 0.6 *  x[:,oid[\"aper_y\"]] - x[:, oid[\"w_leg\"]]\n",
    "    aper_x_poleoverhang = (x[:,oid[\"w\"]] - x[:,oid[\"aper_x\"]]) / 2\n",
    "    coil_area = coil_width * coil_height\n",
    "    current_density = coil_area / x[:,oid[\"totalCurrent\"]]\n",
    "    \n",
    "    B_real = x[:,oid[\"totalCurrent\"]] * (2 * 1.25663706e-6  / x[:,oid[\"aper_y\"]]) \n",
    "\n",
    "    total_current_max = ((10 * (75 * 0.01)) * 1e6) * coil_area\n",
    "    B_max = x[:,oid[\"totalCurrent\"]] * (2 * 1.25663706e-6  / x[:,oid[\"aper_y\"]]) \n",
    "\n",
    "    B_quot = B_real / B_max\n",
    "    current_quot = x[:,oid[\"totalCurrent\"]] / total_current_max\n",
    "\n",
    "    #self.totalCurrent = self.B_real * self.aper_y / (2 * _scipy_constants.mu_0)\n",
    "    #self.totalCurrentMax = self.B_max * self.aper_y / (2 * _scipy_constants.mu_0)\n",
    "\n",
    "    #totalCurrentMax2 = ((6 * (75 * 0.01)) * 1e6) * coilArea\n",
    "    #totalCurrentMax3 = ((4 * (75 * 0.01)) * 1e6) * coilArea\n",
    "    #totalCurrentMax4 = ((2 * (75 * 0.01)) * 1e6) * coilArea\n",
    "\n",
    "    stack = torch.cat([\n",
    "        x,\n",
    "        coil_width.unsqueeze(1),\n",
    "        coil_height.unsqueeze(1),\n",
    "        coil_area.unsqueeze(1),\n",
    "        aper_x_poleoverhang.unsqueeze(1),\n",
    "        current_density.unsqueeze(1),\n",
    "        B_real.unsqueeze(1),\n",
    "        B_max.unsqueeze(1),\n",
    "        B_quot.unsqueeze(1),\n",
    "        total_current_max.unsqueeze(1),\n",
    "        current_quot.unsqueeze(1) \n",
    "        ],dim=1)\n",
    "    return stack"
   ]
  },
  {
   "cell_type": "code",
   "execution_count": 64,
   "metadata": {},
   "outputs": [],
   "source": [
    "class MyRegNet(nn.Module):\n",
    "    def __init__(self,h_size=32):\n",
    "        super().__init__()\n",
    "        self.bn0 = nn.BatchNorm1d(len(important_cols)+10, dtype=torch.double)\n",
    "        self.fc1 = nn.Linear(len(important_cols)+10,h_size, dtype=torch.double)\n",
    "        self.nl1 = nn.LeakyReLU()\n",
    "        self.bn1 = nn.BatchNorm1d(h_size, dtype=torch.double)\n",
    "        #self.do1 = nn.Dropout1d(0.5)\n",
    "        #self.fc2 = nn.Linear(h_size,h_size, dtype=torch.double)\n",
    "        #self.nl2 = nn.LeakyReLU()\n",
    "        #self.bn2 = nn.BatchNorm1d(h_size, dtype=torch.double)\n",
    "        #self.do2 = nn.Dropout1d()\n",
    "        self.fc3 = nn.Linear(h_size,3, dtype=torch.double)\n",
    "    def forward(self,x):\n",
    "        x = continuous_preprocessing(x)\n",
    "        x = self.bn0(x)\n",
    "        x = self.fc1(x)\n",
    "        x = self.nl1(x)\n",
    "        x = self.bn1(x)\n",
    "        #x = self.do1(x)\n",
    "        #x = self.fc2(x)\n",
    "        #x = self.nl2(x)\n",
    "        #x = self.bn2(x)\n",
    "        #x = self.do2(x)\n",
    "        x = self.fc3(x)\n",
    "        return x\n",
    "\n",
    "network = MyRegNet().to(device)"
   ]
  },
  {
   "cell_type": "code",
   "execution_count": 65,
   "metadata": {},
   "outputs": [],
   "source": [
    "loss_mask_df = dataset_train.dataframe[[\"B0\",\"gfr_x_1e-4\",\"gfr_y_1e-4\"]].mean()\n"
   ]
  },
  {
   "cell_type": "code",
   "execution_count": 17,
   "metadata": {},
   "outputs": [
    {
     "name": "stdout",
     "output_type": "stream",
     "text": [
      "99 tensor(0.0028) tensor(0.0005)\r"
     ]
    }
   ],
   "source": [
    "n_epochs = 100\n",
    "lr = 1e-4\n",
    "optim = torch.optim.Adam(network.parameters(), lr)\n",
    "loss_fun = nn.MSELoss()\n",
    "\n",
    "for epoch in range(n_epochs):\n",
    "    network.train()\n",
    "    loss_list = []\n",
    "    for x,y in train_loader:\n",
    "        selected_x = x[:,input_mask].double().to(device)\n",
    "        selected_y = y[:,output_mask].double().to(device)\n",
    "        pred = network(selected_x)\n",
    "\n",
    "        loss_mask = (torch.tensor(list(loss_mask_df))* torch.tensor([1.5,1,1])).repeat((x.shape[0],1)).to(device)\n",
    "        loss = loss_fun(pred * loss_mask,selected_y * loss_mask)\n",
    "        loss_list.append(loss.detach().item())\n",
    "        optim.zero_grad()\n",
    "        loss.backward()\n",
    "        optim.step()\n",
    "    epoch_train_loss = torch.tensor(loss_list).mean()\n",
    "\n",
    "    network.eval()\n",
    "    loss_list = []\n",
    "    for x,y in val_loader:\n",
    "        selected_x = x[:,input_mask].double().to(device)\n",
    "        selected_y = y[:,output_mask].double().to(device)\n",
    "        pred = network(selected_x)\n",
    "\n",
    "        loss_mask = (torch.tensor(list(loss_mask_df))* torch.tensor([1.5,1,1])).repeat((x.shape[0],1)).to(device)\n",
    "        loss = loss_fun(pred * loss_mask,selected_y * loss_mask)\n",
    "        loss_list.append(loss.detach().item())\n",
    "    epoch_val_loss = torch.tensor(loss_list).mean()\n",
    "    print(epoch,epoch_train_loss,epoch_val_loss,end=\"\\r\")\n"
   ]
  },
  {
   "cell_type": "code",
   "execution_count": 18,
   "metadata": {},
   "outputs": [],
   "source": [
    "torch.save(network.state_dict(), \"network\")"
   ]
  },
  {
   "cell_type": "code",
   "execution_count": 66,
   "metadata": {},
   "outputs": [
    {
     "data": {
      "text/plain": [
       "<All keys matched successfully>"
      ]
     },
     "execution_count": 66,
     "metadata": {},
     "output_type": "execute_result"
    }
   ],
   "source": [
    "\n",
    "network = MyRegNet().to(device)\n",
    "network.load_state_dict(torch.load(\"network\"))"
   ]
  },
  {
   "cell_type": "code",
   "execution_count": 67,
   "metadata": {},
   "outputs": [],
   "source": [
    "A = []\n",
    "b = []\n",
    "\n",
    "def onehot(name, neg):\n",
    "    out = [0] * len(important_cols)\n",
    "    out[important_cols.index(name)] = -1 if neg else 1\n",
    "    return out\n",
    "\n",
    "for name in important_cols:\n",
    "    # constraints for minima: x > a --> -x < -a\n",
    "    A.append(onehot(name,True))\n",
    "    b.append(-dataset_train.input_mins[name])\n",
    "    \n",
    "    # constraints for maxima: x < a\n",
    "    A.append(onehot(name,False))\n",
    "    b.append(dataset_train.input_maxs[name])"
   ]
  },
  {
   "cell_type": "code",
   "execution_count": 68,
   "metadata": {},
   "outputs": [],
   "source": [
    "A_rel = []\n",
    "b_rel = []\n",
    "\n",
    "# \"aper_x\", \"aper_y\", \"aper_x_tapering\", \"yoke_x\", \n",
    "# \"yoke_y\", \"w\"     , \"w_leg\"              , \"totalCurrent\"]\n",
    "\n",
    "\n",
    "# aper_x > aper_y --> aper_y - aper_x < 0\n",
    "A_rel.append([-1, 1, 0, 0, 0, 0, 0, 0])\n",
    "b_rel.append(0)\n",
    "\n",
    "# aper_x < 5 * aper_y --> aper_x - 5 * aper_y < 0\n",
    "A_rel.append([1,-5, 0, 0, 0, 0, 0, 0])\n",
    "b_rel.append(0)\n",
    "\n",
    "# w_leg < aper_x --> w_leg - aper_x < 0\n",
    "A_rel.append([-1, 0, 0, 0, 0, 0, 1, 0])\n",
    "b_rel.append(0)\n",
    "\n",
    "## Max-made\n",
    "# w < 6.6*w_leg --> w - 6.6w_leg < 0\n",
    "A_rel.append([ 0, 0, 0, 0, 0, 1,-6.6, 0])\n",
    "b_rel.append(0)\n",
    "\n",
    "# w_leg < 0.83w --> w_leg - 0.83w < 0\n",
    "A_rel.append([ 0, 0, 0, 0, 0,-0.83, 1, 0])\n",
    "b_rel.append(0)\n",
    "\n",
    "# Fix aspect ratio w/h between 1.9 and 2.1\n",
    "# make coils squareish (aspect ratio of no more than 2 --> for sides a and be we have a - 2b < 0 and b - 2a < 0)\n",
    "# coil width = 0.5 yoke_x - 0.5 w - aper_tape - w_leg\n",
    "# coil height = 0.5 yoke_y - 0.6 aper_y - w_leg\n",
    "\n",
    "# c_w/c_h > 1.9 --> 1.9*c_h - c_w < 0 --> \n",
    "#A_rel.append([ 0, -1.14, 1, -0.5, 0.95, 0.5, -0.9, 0])\n",
    "#b_rel.append(0)\n",
    "\n",
    "# c_w/c_h < 2.1 --> c_w - 2.1c_h < 0\n",
    "#A_rel.append([ 0, 1.26, -1, 0.5, 1.05, -0.5, 1.1, 0])\n",
    "#b_rel.append(0)"
   ]
  },
  {
   "cell_type": "code",
   "execution_count": 69,
   "metadata": {},
   "outputs": [],
   "source": [
    "A = A + A_rel\n",
    "b = b + b_rel"
   ]
  },
  {
   "cell_type": "code",
   "execution_count": 70,
   "metadata": {},
   "outputs": [
    {
     "data": {
      "text/plain": [
       "[([-1, 0, 0, 0, 0, 0, 0, 0], -0.025),\n",
       " ([1, 0, 0, 0, 0, 0, 0, 0], 0.3),\n",
       " ([0, -1, 0, 0, 0, 0, 0, 0], -0.025),\n",
       " ([0, 1, 0, 0, 0, 0, 0, 0], 0.3),\n",
       " ([0, 0, -1, 0, 0, 0, 0, 0], -0.0009473),\n",
       " ([0, 0, 1, 0, 0, 0, 0, 0], 0.0362358),\n",
       " ([0, 0, 0, -1, 0, 0, 0, 0], -0.1647062),\n",
       " ([0, 0, 0, 1, 0, 0, 0, 0], 4.1469032),\n",
       " ([0, 0, 0, 0, -1, 0, 0, 0], -0.0912832),\n",
       " ([0, 0, 0, 0, 1, 0, 0, 0], 2.791676),\n",
       " ([0, 0, 0, 0, 0, -1, 0, 0], -0.0439465),\n",
       " ([0, 0, 0, 0, 0, 1, 0, 0], 1.0247168),\n",
       " ([0, 0, 0, 0, 0, 0, -1, 0], -0.0128003),\n",
       " ([0, 0, 0, 0, 0, 0, 1, 0], 0.9068187),\n",
       " ([0, 0, 0, 0, 0, 0, 0, -1], -397.8873575),\n",
       " ([0, 0, 0, 0, 0, 0, 0, 1], 286478.8974095),\n",
       " ([-1, 1, 0, 0, 0, 0, 0, 0], 0),\n",
       " ([1, -5, 0, 0, 0, 0, 0, 0], 0),\n",
       " ([-1, 0, 0, 0, 0, 0, 1, 0], 0),\n",
       " ([0, 0, 0, 0, 0, 1, -6.6, 0], 0),\n",
       " ([0, 0, 0, 0, 0, -0.83, 1, 0], 0)]"
      ]
     },
     "execution_count": 70,
     "metadata": {},
     "output_type": "execute_result"
    }
   ],
   "source": [
    "list(zip(A,b))"
   ]
  },
  {
   "cell_type": "code",
   "execution_count": 71,
   "metadata": {},
   "outputs": [],
   "source": [
    "#def project_to_poly(x, A_mat=A, b_vec = b):\n",
    "#    def loss(curr_guess):\n",
    "#        return np.linalg.norm(curr_guess-x)\n",
    "#    \n",
    "#    # We know coil_width = 2*coil_height\n",
    "#    # Area = 2 coil_width^2 \n",
    "#\n",
    "#    # currDens = totalCurr / 2 coil_height^2\n",
    "#    # 0.12 < currDens < 7.5 \n",
    "#\n",
    "#    # sqrt(0.12) < sqrt(totalCurr) / (sqrt(2) coil_height) --> coil_height < sqrt(totalCurr) / (sqrt(2)*sqrt(0.12))\n",
    "#    # sqrt(7.5) > sqrt(totalCurr) / (sqrt(2) coil_height)) --> coil_height > sqrt(totalCurr) / (sqrt(2)*sqrt(7.5))\n",
    "#    \n",
    "#    cons = {'type':'ineq','fun':lambda x: b_vec - np.dot(A_mat,x)}\n",
    "#    return optimize.minimize(loss, x,constraints=cons, method='SLSQP').x\n",
    "#\n",
    "##A_test = [[0,1],[1,0]]\n",
    "##b_test = [1,1]\n",
    "##project_to_poly([2,0.1],A_test,b_test)"
   ]
  },
  {
   "cell_type": "code",
   "execution_count": 72,
   "metadata": {},
   "outputs": [
    {
     "data": {
      "text/plain": [
       "array([0.5, 1. ])"
      ]
     },
     "execution_count": 72,
     "metadata": {},
     "output_type": "execute_result"
    }
   ],
   "source": [
    "def project_to_poly2(x, A_mat=A, b_vec = b):\n",
    "    # Define decision variable\n",
    "    p = cp.Variable(len(x))\n",
    "    # Define objective function\n",
    "    objective = cp.Minimize(cp.sum_squares(p - x))\n",
    "\n",
    "    A_mat_dynamic = A_mat[:]\n",
    "    b_vec_dynamic = b_vec[:]\n",
    "\n",
    "\n",
    "    # Define constraints\n",
    "    constraints = [np.array(A_mat) @ p <= np.array(b_vec)]\n",
    "\n",
    "    # Solve the problem\n",
    "    problem = cp.Problem(objective, constraints)\n",
    "    problem.solve()\n",
    "\n",
    "\n",
    "    # Optimal solution\n",
    "    closest_point = p.value\n",
    "    return closest_point\n",
    "\n",
    "A_test = [[0,1],[1,0]]\n",
    "b_test = [1,1]\n",
    "project_to_poly2([0.5,1.2],A_test,b_test)"
   ]
  },
  {
   "cell_type": "code",
   "execution_count": null,
   "metadata": {},
   "outputs": [],
   "source": [
    "tuple_of_interest = (target_index_dict[\"B0\"], target_index_dict[\"gfr_x_5e-3\"],target_index_dict[\"gfr_y_5e-3\"])\n",
    "target = torch.zeros(1,33,dtype=torch.double).to(device)\n",
    "target[0,tuple_of_interest[0]] = 0.079589\n",
    "target[0,tuple_of_interest[1]] = 0.053487\n",
    "target[0,tuple_of_interest[2]] = 0.01\n",
    "\n",
    "tuple_of_interest = (target_index_dict[\"B0\"], target_index_dict[\"gfr_x_1e-4\"],target_index_dict[\"gfr_y_1e-4\"])\n",
    "target = torch.zeros(1,33,dtype=torch.double).to(device)\n",
    "target[0,tuple_of_interest[0]] = 1.1720211\n",
    "target[0,tuple_of_interest[1]] = 0.2803503\n",
    "target[0,tuple_of_interest[2]] = 0.06\n",
    "\n",
    "tuple_of_interest = (target_index_dict[\"B0\"], target_index_dict[\"gfr_x_1e-6\"],target_index_dict[\"gfr_y_1e-6\"])\n",
    "target = torch.zeros(1,33,dtype=torch.double).to(device)\n",
    "target[0,tuple_of_interest[0]] = 0.479001\n",
    "target[0,tuple_of_interest[1]] = 0.0402589\n",
    "target[0,tuple_of_interest[2]] = 0.0396294\n",
    "\n",
    "\n",
    "\n",
    "\n",
    "def create_loss_function(tuple_of_interest):\n",
    "    mask = torch.zeros(1,33).to(device)\n",
    "    for i in tuple_of_interest:\n",
    "        mask[0, i] = 1\n",
    "    mse = torch.nn.MSELoss()\n",
    "    def instanciated_loss_function(x,y):\n",
    "        return mse(x*mask,y*mask)\n",
    "    return instanciated_loss_function\n",
    "\n",
    "loss_fun = create_loss_function(tuple_of_interest)"
   ]
  },
  {
   "cell_type": "code",
   "execution_count": 74,
   "metadata": {},
   "outputs": [],
   "source": [
    "target = torch.tensor([0.2,0.08,0.05], device=device,dtype=torch.double)\n",
    "loss_fun = torch.nn.MSELoss()\n"
   ]
  },
  {
   "cell_type": "code",
   "execution_count": 75,
   "metadata": {},
   "outputs": [
    {
     "data": {
      "text/plain": [
       "tensor([1.8260e-01, 1.0954e-01, 1.4303e-02, 1.3615e+00, 8.0784e-01, 4.6866e-01,\n",
       "        2.4425e-01, 3.6181e+04], device='cuda:0', dtype=torch.float64)"
      ]
     },
     "execution_count": 75,
     "metadata": {},
     "output_type": "execute_result"
    }
   ],
   "source": [
    "network.bn0.running_mean[:8]"
   ]
  },
  {
   "cell_type": "code",
   "execution_count": 80,
   "metadata": {},
   "outputs": [
    {
     "name": "stderr",
     "output_type": "stream",
     "text": [
      "/tmp/ipykernel_553907/1306472169.py:2: UserWarning: To copy construct from a tensor, it is recommended to use sourceTensor.clone().detach() or sourceTensor.clone().detach().requires_grad_(True), rather than torch.tensor(sourceTensor).\n",
      "  magnet_params = torch.tensor(2 * network.bn0.running_mean[:8].clone().detach(),dtype=torch.double).unsqueeze(0).to(device).requires_grad_(True)\n",
      "/tmp/ipykernel_553907/1306472169.py:4: UserWarning: To copy construct from a tensor, it is recommended to use sourceTensor.clone().detach() or sourceTensor.clone().detach().requires_grad_(True), rather than torch.tensor(sourceTensor).\n",
      "  lr_tensor = torch.tensor(network.bn0.running_mean[:8] / 1000)\n",
      "/home/max/.local/lib/python3.10/site-packages/torch/nn/modules/loss.py:535: UserWarning: Using a target size (torch.Size([3])) that is different to the input size (torch.Size([1, 3])). This will likely lead to incorrect results due to broadcasting. Please ensure they have the same size.\n",
      "  return F.mse_loss(input, target, reduction=self.reduction)\n"
     ]
    },
    {
     "name": "stdout",
     "output_type": "stream",
     "text": [
      "33964, 0.020282905245\r"
     ]
    },
    {
     "ename": "KeyboardInterrupt",
     "evalue": "",
     "output_type": "error",
     "traceback": [
      "\u001b[0;31m---------------------------------------------------------------------------\u001b[0m",
      "\u001b[0;31mKeyboardInterrupt\u001b[0m                         Traceback (most recent call last)",
      "Cell \u001b[0;32mIn[80], line 16\u001b[0m\n\u001b[1;32m     13\u001b[0m     \u001b[38;5;28;01mif\u001b[39;00m layer\u001b[38;5;241m.\u001b[39mgrad \u001b[38;5;129;01mis\u001b[39;00m \u001b[38;5;129;01mnot\u001b[39;00m \u001b[38;5;28;01mNone\u001b[39;00m:\n\u001b[1;32m     14\u001b[0m         layer\u001b[38;5;241m.\u001b[39mgrad\u001b[38;5;241m.\u001b[39mzero_()\n\u001b[0;32m---> 16\u001b[0m pred \u001b[38;5;241m=\u001b[39m \u001b[43mnetwork\u001b[49m\u001b[43m(\u001b[49m\u001b[43mmagnet_params\u001b[49m\u001b[43m)\u001b[49m\n\u001b[1;32m     17\u001b[0m loss \u001b[38;5;241m=\u001b[39m loss_fun(pred,target)\n\u001b[1;32m     18\u001b[0m \u001b[38;5;28mprint\u001b[39m(\u001b[38;5;124mf\u001b[39m\u001b[38;5;124m\"\u001b[39m\u001b[38;5;132;01m{\u001b[39;00mstep\u001b[38;5;132;01m}\u001b[39;00m\u001b[38;5;124m, \u001b[39m\u001b[38;5;132;01m{\u001b[39;00mloss\u001b[38;5;241m.\u001b[39mdetach()\u001b[38;5;241m.\u001b[39mcpu()\u001b[38;5;241m.\u001b[39mnumpy()\u001b[38;5;132;01m:\u001b[39;00m\u001b[38;5;124m.12f\u001b[39m\u001b[38;5;132;01m}\u001b[39;00m\u001b[38;5;124m\"\u001b[39m,end\u001b[38;5;241m=\u001b[39m\u001b[38;5;124m\"\u001b[39m\u001b[38;5;130;01m\\r\u001b[39;00m\u001b[38;5;124m\"\u001b[39m)\n",
      "File \u001b[0;32m~/.local/lib/python3.10/site-packages/torch/nn/modules/module.py:1511\u001b[0m, in \u001b[0;36mModule._wrapped_call_impl\u001b[0;34m(self, *args, **kwargs)\u001b[0m\n\u001b[1;32m   1509\u001b[0m     \u001b[38;5;28;01mreturn\u001b[39;00m \u001b[38;5;28mself\u001b[39m\u001b[38;5;241m.\u001b[39m_compiled_call_impl(\u001b[38;5;241m*\u001b[39margs, \u001b[38;5;241m*\u001b[39m\u001b[38;5;241m*\u001b[39mkwargs)  \u001b[38;5;66;03m# type: ignore[misc]\u001b[39;00m\n\u001b[1;32m   1510\u001b[0m \u001b[38;5;28;01melse\u001b[39;00m:\n\u001b[0;32m-> 1511\u001b[0m     \u001b[38;5;28;01mreturn\u001b[39;00m \u001b[38;5;28;43mself\u001b[39;49m\u001b[38;5;241;43m.\u001b[39;49m\u001b[43m_call_impl\u001b[49m\u001b[43m(\u001b[49m\u001b[38;5;241;43m*\u001b[39;49m\u001b[43margs\u001b[49m\u001b[43m,\u001b[49m\u001b[43m \u001b[49m\u001b[38;5;241;43m*\u001b[39;49m\u001b[38;5;241;43m*\u001b[39;49m\u001b[43mkwargs\u001b[49m\u001b[43m)\u001b[49m\n",
      "File \u001b[0;32m~/.local/lib/python3.10/site-packages/torch/nn/modules/module.py:1520\u001b[0m, in \u001b[0;36mModule._call_impl\u001b[0;34m(self, *args, **kwargs)\u001b[0m\n\u001b[1;32m   1515\u001b[0m \u001b[38;5;66;03m# If we don't have any hooks, we want to skip the rest of the logic in\u001b[39;00m\n\u001b[1;32m   1516\u001b[0m \u001b[38;5;66;03m# this function, and just call forward.\u001b[39;00m\n\u001b[1;32m   1517\u001b[0m \u001b[38;5;28;01mif\u001b[39;00m \u001b[38;5;129;01mnot\u001b[39;00m (\u001b[38;5;28mself\u001b[39m\u001b[38;5;241m.\u001b[39m_backward_hooks \u001b[38;5;129;01mor\u001b[39;00m \u001b[38;5;28mself\u001b[39m\u001b[38;5;241m.\u001b[39m_backward_pre_hooks \u001b[38;5;129;01mor\u001b[39;00m \u001b[38;5;28mself\u001b[39m\u001b[38;5;241m.\u001b[39m_forward_hooks \u001b[38;5;129;01mor\u001b[39;00m \u001b[38;5;28mself\u001b[39m\u001b[38;5;241m.\u001b[39m_forward_pre_hooks\n\u001b[1;32m   1518\u001b[0m         \u001b[38;5;129;01mor\u001b[39;00m _global_backward_pre_hooks \u001b[38;5;129;01mor\u001b[39;00m _global_backward_hooks\n\u001b[1;32m   1519\u001b[0m         \u001b[38;5;129;01mor\u001b[39;00m _global_forward_hooks \u001b[38;5;129;01mor\u001b[39;00m _global_forward_pre_hooks):\n\u001b[0;32m-> 1520\u001b[0m     \u001b[38;5;28;01mreturn\u001b[39;00m \u001b[43mforward_call\u001b[49m\u001b[43m(\u001b[49m\u001b[38;5;241;43m*\u001b[39;49m\u001b[43margs\u001b[49m\u001b[43m,\u001b[49m\u001b[43m \u001b[49m\u001b[38;5;241;43m*\u001b[39;49m\u001b[38;5;241;43m*\u001b[39;49m\u001b[43mkwargs\u001b[49m\u001b[43m)\u001b[49m\n\u001b[1;32m   1522\u001b[0m \u001b[38;5;28;01mtry\u001b[39;00m:\n\u001b[1;32m   1523\u001b[0m     result \u001b[38;5;241m=\u001b[39m \u001b[38;5;28;01mNone\u001b[39;00m\n",
      "Cell \u001b[0;32mIn[64], line 16\u001b[0m, in \u001b[0;36mMyRegNet.forward\u001b[0;34m(self, x)\u001b[0m\n\u001b[1;32m     14\u001b[0m \u001b[38;5;28;01mdef\u001b[39;00m \u001b[38;5;21mforward\u001b[39m(\u001b[38;5;28mself\u001b[39m,x):\n\u001b[1;32m     15\u001b[0m     x \u001b[38;5;241m=\u001b[39m continuous_preprocessing(x)\n\u001b[0;32m---> 16\u001b[0m     x \u001b[38;5;241m=\u001b[39m \u001b[38;5;28;43mself\u001b[39;49m\u001b[38;5;241;43m.\u001b[39;49m\u001b[43mbn0\u001b[49m\u001b[43m(\u001b[49m\u001b[43mx\u001b[49m\u001b[43m)\u001b[49m\n\u001b[1;32m     17\u001b[0m     x \u001b[38;5;241m=\u001b[39m \u001b[38;5;28mself\u001b[39m\u001b[38;5;241m.\u001b[39mfc1(x)\n\u001b[1;32m     18\u001b[0m     x \u001b[38;5;241m=\u001b[39m \u001b[38;5;28mself\u001b[39m\u001b[38;5;241m.\u001b[39mnl1(x)\n",
      "File \u001b[0;32m~/.local/lib/python3.10/site-packages/torch/nn/modules/module.py:1511\u001b[0m, in \u001b[0;36mModule._wrapped_call_impl\u001b[0;34m(self, *args, **kwargs)\u001b[0m\n\u001b[1;32m   1509\u001b[0m     \u001b[38;5;28;01mreturn\u001b[39;00m \u001b[38;5;28mself\u001b[39m\u001b[38;5;241m.\u001b[39m_compiled_call_impl(\u001b[38;5;241m*\u001b[39margs, \u001b[38;5;241m*\u001b[39m\u001b[38;5;241m*\u001b[39mkwargs)  \u001b[38;5;66;03m# type: ignore[misc]\u001b[39;00m\n\u001b[1;32m   1510\u001b[0m \u001b[38;5;28;01melse\u001b[39;00m:\n\u001b[0;32m-> 1511\u001b[0m     \u001b[38;5;28;01mreturn\u001b[39;00m \u001b[38;5;28;43mself\u001b[39;49m\u001b[38;5;241;43m.\u001b[39;49m\u001b[43m_call_impl\u001b[49m\u001b[43m(\u001b[49m\u001b[38;5;241;43m*\u001b[39;49m\u001b[43margs\u001b[49m\u001b[43m,\u001b[49m\u001b[43m \u001b[49m\u001b[38;5;241;43m*\u001b[39;49m\u001b[38;5;241;43m*\u001b[39;49m\u001b[43mkwargs\u001b[49m\u001b[43m)\u001b[49m\n",
      "File \u001b[0;32m~/.local/lib/python3.10/site-packages/torch/nn/modules/module.py:1520\u001b[0m, in \u001b[0;36mModule._call_impl\u001b[0;34m(self, *args, **kwargs)\u001b[0m\n\u001b[1;32m   1515\u001b[0m \u001b[38;5;66;03m# If we don't have any hooks, we want to skip the rest of the logic in\u001b[39;00m\n\u001b[1;32m   1516\u001b[0m \u001b[38;5;66;03m# this function, and just call forward.\u001b[39;00m\n\u001b[1;32m   1517\u001b[0m \u001b[38;5;28;01mif\u001b[39;00m \u001b[38;5;129;01mnot\u001b[39;00m (\u001b[38;5;28mself\u001b[39m\u001b[38;5;241m.\u001b[39m_backward_hooks \u001b[38;5;129;01mor\u001b[39;00m \u001b[38;5;28mself\u001b[39m\u001b[38;5;241m.\u001b[39m_backward_pre_hooks \u001b[38;5;129;01mor\u001b[39;00m \u001b[38;5;28mself\u001b[39m\u001b[38;5;241m.\u001b[39m_forward_hooks \u001b[38;5;129;01mor\u001b[39;00m \u001b[38;5;28mself\u001b[39m\u001b[38;5;241m.\u001b[39m_forward_pre_hooks\n\u001b[1;32m   1518\u001b[0m         \u001b[38;5;129;01mor\u001b[39;00m _global_backward_pre_hooks \u001b[38;5;129;01mor\u001b[39;00m _global_backward_hooks\n\u001b[1;32m   1519\u001b[0m         \u001b[38;5;129;01mor\u001b[39;00m _global_forward_hooks \u001b[38;5;129;01mor\u001b[39;00m _global_forward_pre_hooks):\n\u001b[0;32m-> 1520\u001b[0m     \u001b[38;5;28;01mreturn\u001b[39;00m \u001b[43mforward_call\u001b[49m\u001b[43m(\u001b[49m\u001b[38;5;241;43m*\u001b[39;49m\u001b[43margs\u001b[49m\u001b[43m,\u001b[49m\u001b[43m \u001b[49m\u001b[38;5;241;43m*\u001b[39;49m\u001b[38;5;241;43m*\u001b[39;49m\u001b[43mkwargs\u001b[49m\u001b[43m)\u001b[49m\n\u001b[1;32m   1522\u001b[0m \u001b[38;5;28;01mtry\u001b[39;00m:\n\u001b[1;32m   1523\u001b[0m     result \u001b[38;5;241m=\u001b[39m \u001b[38;5;28;01mNone\u001b[39;00m\n",
      "File \u001b[0;32m~/.local/lib/python3.10/site-packages/torch/nn/modules/batchnorm.py:175\u001b[0m, in \u001b[0;36m_BatchNorm.forward\u001b[0;34m(self, input)\u001b[0m\n\u001b[1;32m    168\u001b[0m     bn_training \u001b[38;5;241m=\u001b[39m (\u001b[38;5;28mself\u001b[39m\u001b[38;5;241m.\u001b[39mrunning_mean \u001b[38;5;129;01mis\u001b[39;00m \u001b[38;5;28;01mNone\u001b[39;00m) \u001b[38;5;129;01mand\u001b[39;00m (\u001b[38;5;28mself\u001b[39m\u001b[38;5;241m.\u001b[39mrunning_var \u001b[38;5;129;01mis\u001b[39;00m \u001b[38;5;28;01mNone\u001b[39;00m)\n\u001b[1;32m    170\u001b[0m \u001b[38;5;250m\u001b[39m\u001b[38;5;124mr\u001b[39m\u001b[38;5;124;03m\"\"\"\u001b[39;00m\n\u001b[1;32m    171\u001b[0m \u001b[38;5;124;03mBuffers are only updated if they are to be tracked and we are in training mode. Thus they only need to be\u001b[39;00m\n\u001b[1;32m    172\u001b[0m \u001b[38;5;124;03mpassed when the update should occur (i.e. in training mode when they are tracked), or when buffer stats are\u001b[39;00m\n\u001b[1;32m    173\u001b[0m \u001b[38;5;124;03mused for normalization (i.e. in eval mode when buffers are not None).\u001b[39;00m\n\u001b[1;32m    174\u001b[0m \u001b[38;5;124;03m\"\"\"\u001b[39;00m\n\u001b[0;32m--> 175\u001b[0m \u001b[38;5;28;01mreturn\u001b[39;00m \u001b[43mF\u001b[49m\u001b[38;5;241;43m.\u001b[39;49m\u001b[43mbatch_norm\u001b[49m\u001b[43m(\u001b[49m\n\u001b[1;32m    176\u001b[0m \u001b[43m    \u001b[49m\u001b[38;5;28;43minput\u001b[39;49m\u001b[43m,\u001b[49m\n\u001b[1;32m    177\u001b[0m \u001b[43m    \u001b[49m\u001b[38;5;66;43;03m# If buffers are not to be tracked, ensure that they won't be updated\u001b[39;49;00m\n\u001b[1;32m    178\u001b[0m \u001b[43m    \u001b[49m\u001b[38;5;28;43mself\u001b[39;49m\u001b[38;5;241;43m.\u001b[39;49m\u001b[43mrunning_mean\u001b[49m\n\u001b[1;32m    179\u001b[0m \u001b[43m    \u001b[49m\u001b[38;5;28;43;01mif\u001b[39;49;00m\u001b[43m \u001b[49m\u001b[38;5;129;43;01mnot\u001b[39;49;00m\u001b[43m \u001b[49m\u001b[38;5;28;43mself\u001b[39;49m\u001b[38;5;241;43m.\u001b[39;49m\u001b[43mtraining\u001b[49m\u001b[43m \u001b[49m\u001b[38;5;129;43;01mor\u001b[39;49;00m\u001b[43m \u001b[49m\u001b[38;5;28;43mself\u001b[39;49m\u001b[38;5;241;43m.\u001b[39;49m\u001b[43mtrack_running_stats\u001b[49m\n\u001b[1;32m    180\u001b[0m \u001b[43m    \u001b[49m\u001b[38;5;28;43;01melse\u001b[39;49;00m\u001b[43m \u001b[49m\u001b[38;5;28;43;01mNone\u001b[39;49;00m\u001b[43m,\u001b[49m\n\u001b[1;32m    181\u001b[0m \u001b[43m    \u001b[49m\u001b[38;5;28;43mself\u001b[39;49m\u001b[38;5;241;43m.\u001b[39;49m\u001b[43mrunning_var\u001b[49m\u001b[43m \u001b[49m\u001b[38;5;28;43;01mif\u001b[39;49;00m\u001b[43m \u001b[49m\u001b[38;5;129;43;01mnot\u001b[39;49;00m\u001b[43m \u001b[49m\u001b[38;5;28;43mself\u001b[39;49m\u001b[38;5;241;43m.\u001b[39;49m\u001b[43mtraining\u001b[49m\u001b[43m \u001b[49m\u001b[38;5;129;43;01mor\u001b[39;49;00m\u001b[43m \u001b[49m\u001b[38;5;28;43mself\u001b[39;49m\u001b[38;5;241;43m.\u001b[39;49m\u001b[43mtrack_running_stats\u001b[49m\u001b[43m \u001b[49m\u001b[38;5;28;43;01melse\u001b[39;49;00m\u001b[43m \u001b[49m\u001b[38;5;28;43;01mNone\u001b[39;49;00m\u001b[43m,\u001b[49m\n\u001b[1;32m    182\u001b[0m \u001b[43m    \u001b[49m\u001b[38;5;28;43mself\u001b[39;49m\u001b[38;5;241;43m.\u001b[39;49m\u001b[43mweight\u001b[49m\u001b[43m,\u001b[49m\n\u001b[1;32m    183\u001b[0m \u001b[43m    \u001b[49m\u001b[38;5;28;43mself\u001b[39;49m\u001b[38;5;241;43m.\u001b[39;49m\u001b[43mbias\u001b[49m\u001b[43m,\u001b[49m\n\u001b[1;32m    184\u001b[0m \u001b[43m    \u001b[49m\u001b[43mbn_training\u001b[49m\u001b[43m,\u001b[49m\n\u001b[1;32m    185\u001b[0m \u001b[43m    \u001b[49m\u001b[43mexponential_average_factor\u001b[49m\u001b[43m,\u001b[49m\n\u001b[1;32m    186\u001b[0m \u001b[43m    \u001b[49m\u001b[38;5;28;43mself\u001b[39;49m\u001b[38;5;241;43m.\u001b[39;49m\u001b[43meps\u001b[49m\u001b[43m,\u001b[49m\n\u001b[1;32m    187\u001b[0m \u001b[43m\u001b[49m\u001b[43m)\u001b[49m\n",
      "File \u001b[0;32m~/.local/lib/python3.10/site-packages/torch/nn/functional.py:2482\u001b[0m, in \u001b[0;36mbatch_norm\u001b[0;34m(input, running_mean, running_var, weight, bias, training, momentum, eps)\u001b[0m\n\u001b[1;32m   2479\u001b[0m \u001b[38;5;28;01mif\u001b[39;00m training:\n\u001b[1;32m   2480\u001b[0m     _verify_batch_size(\u001b[38;5;28minput\u001b[39m\u001b[38;5;241m.\u001b[39msize())\n\u001b[0;32m-> 2482\u001b[0m \u001b[38;5;28;01mreturn\u001b[39;00m \u001b[43mtorch\u001b[49m\u001b[38;5;241;43m.\u001b[39;49m\u001b[43mbatch_norm\u001b[49m\u001b[43m(\u001b[49m\n\u001b[1;32m   2483\u001b[0m \u001b[43m    \u001b[49m\u001b[38;5;28;43minput\u001b[39;49m\u001b[43m,\u001b[49m\u001b[43m \u001b[49m\u001b[43mweight\u001b[49m\u001b[43m,\u001b[49m\u001b[43m \u001b[49m\u001b[43mbias\u001b[49m\u001b[43m,\u001b[49m\u001b[43m \u001b[49m\u001b[43mrunning_mean\u001b[49m\u001b[43m,\u001b[49m\u001b[43m \u001b[49m\u001b[43mrunning_var\u001b[49m\u001b[43m,\u001b[49m\u001b[43m \u001b[49m\u001b[43mtraining\u001b[49m\u001b[43m,\u001b[49m\u001b[43m \u001b[49m\u001b[43mmomentum\u001b[49m\u001b[43m,\u001b[49m\u001b[43m \u001b[49m\u001b[43meps\u001b[49m\u001b[43m,\u001b[49m\u001b[43m \u001b[49m\u001b[43mtorch\u001b[49m\u001b[38;5;241;43m.\u001b[39;49m\u001b[43mbackends\u001b[49m\u001b[38;5;241;43m.\u001b[39;49m\u001b[43mcudnn\u001b[49m\u001b[38;5;241;43m.\u001b[39;49m\u001b[43menabled\u001b[49m\n\u001b[1;32m   2484\u001b[0m \u001b[43m\u001b[49m\u001b[43m)\u001b[49m\n",
      "\u001b[0;31mKeyboardInterrupt\u001b[0m: "
     ]
    }
   ],
   "source": [
    "#magnet_params = torch.randn((1,8),dtype=torch.double).to(device).requires_grad_(True)\n",
    "magnet_params = torch.tensor(2 * network.bn0.running_mean[:8].clone().detach(),dtype=torch.double).unsqueeze(0).to(device).requires_grad_(True)\n",
    "lr = 1e-2\n",
    "lr_tensor = torch.tensor(network.bn0.running_mean[:8] / 1000)\n",
    "network.eval()\n",
    "\n",
    "n_steps = 100000\n",
    "\n",
    "for step in range(n_steps):\n",
    "    if magnet_params.grad is not None:\n",
    "        magnet_params.grad.zero_()\n",
    "    for layer in network.parameters():\n",
    "        if layer.grad is not None:\n",
    "            layer.grad.zero_()\n",
    "\n",
    "    pred = network(magnet_params)\n",
    "    loss = loss_fun(pred,target)\n",
    "    print(f\"{step}, {loss.detach().cpu().numpy():.12f}\",end=\"\\r\")\n",
    "    loss.backward()\n",
    "    with torch.no_grad():        \n",
    "        magnet_params = magnet_params - lr_tensor * magnet_params.grad\n",
    "        proj_result = project_to_poly2(magnet_params.squeeze().detach().cpu().numpy())\n",
    "        if (proj_result is None):\n",
    "            magnet_params = torch.tensor(magnet_params).requires_grad_(True)\n",
    "        else:        \n",
    "            magnet_params = torch.tensor(proj_result).unsqueeze(0).to(device).requires_grad_(True)\n",
    "\n",
    "\n",
    "\n",
    "\n"
   ]
  },
  {
   "cell_type": "code",
   "execution_count": 81,
   "metadata": {},
   "outputs": [
    {
     "data": {
      "text/plain": [
       "tensor([[2.9100e-01, 2.8845e-01, 9.5177e-04, 1.9291e+00, 1.6851e+00, 4.1064e-01,\n",
       "         2.8728e-01, 7.2361e+04]], device='cuda:0', dtype=torch.float64,\n",
       "       requires_grad=True)"
      ]
     },
     "execution_count": 81,
     "metadata": {},
     "output_type": "execute_result"
    }
   ],
   "source": [
    "magnet_params"
   ]
  },
  {
   "cell_type": "markdown",
   "metadata": {},
   "source": [
    "Params: \n",
    "- 2.9251e-01, 1.9315e-01, 3.5743e-02, 2.8298e+00, 1.2789e+00, 5.7562e-01, 2.8823e-01, 7.2363e+04\n",
    "- 2.2179e-01, 1.4116e-01, 2.4606e-02, 1.2817e+00, 8.8654e-01, 4.5742e-01, 1.8965e-01, 3.6181e+04\n",
    "-\n",
    "\n",
    "Targets:\n",
    "- 1.2188084, 0.023373, 0.01\n",
    "- 0.2, 0.08, 0.05\n",
    "\n",
    "mid  current start: [2.1825e-01, 1.3743e-01, 2.6151e-02, 1.3050e+00, 8.8006e-01, 4.7123e-01, 1.8570e-01, 3.6181e+04]\n",
    "low  current start: [7.9533e-02, 2.5863e-02, 4.1452e-03, 1.6589e-01, 1.1816e-01, 9.4752e-02, 6.5901e-02, 1.9823e+03]\n",
    "high current start: [2.9100e-01, 2.8845e-01, 9.5177e-04, 1.9291e+00, 1.6851e+00, 4.1064e-01, 2.8728e-01, 7.2361e+04]"
   ]
  },
  {
   "cell_type": "code",
   "execution_count": 82,
   "metadata": {},
   "outputs": [],
   "source": [
    "import femmcreator\n",
    "import magnetdesigner"
   ]
  },
  {
   "cell_type": "code",
   "execution_count": 37,
   "metadata": {},
   "outputs": [
    {
     "name": "stdout",
     "output_type": "stream",
     "text": [
      "0.2341025261221533 0.20737762408863314 0.0009538490604122214 0.9263324411740809 0.8709526007087574 0.20963641700791807 0.15411082347081317 36180.82695031076\n"
     ]
    },
    {
     "ename": "TypeError",
     "evalue": "get_Dipole_geometry_input.__init__() missing 1 required positional argument: 'totalCurrent'",
     "output_type": "error",
     "traceback": [
      "\u001b[0;31m---------------------------------------------------------------------------\u001b[0m",
      "\u001b[0;31mTypeError\u001b[0m                                 Traceback (most recent call last)",
      "Cell \u001b[0;32mIn[37], line 2\u001b[0m\n\u001b[1;32m      1\u001b[0m \u001b[38;5;28mprint\u001b[39m(\u001b[38;5;241m*\u001b[39m\u001b[38;5;28mlist\u001b[39m(\u001b[38;5;241m*\u001b[39m(magnet_params\u001b[38;5;241m.\u001b[39mdetach()\u001b[38;5;241m.\u001b[39mcpu()\u001b[38;5;241m.\u001b[39mnumpy())))\n\u001b[0;32m----> 2\u001b[0m dipole \u001b[38;5;241m=\u001b[39m \u001b[43mmagnetdesigner\u001b[49m\u001b[38;5;241;43m.\u001b[39;49m\u001b[43mdesigner\u001b[49m\u001b[38;5;241;43m.\u001b[39;49m\u001b[43mget_Dipole_geometry_input\u001b[49m\u001b[43m(\u001b[49m\u001b[38;5;241;43m*\u001b[39;49m\u001b[38;5;28;43mlist\u001b[39;49m\u001b[43m(\u001b[49m\u001b[38;5;241;43m*\u001b[39;49m\u001b[43m(\u001b[49m\u001b[43mmagnet_params\u001b[49m\u001b[38;5;241;43m.\u001b[39;49m\u001b[43mdetach\u001b[49m\u001b[43m(\u001b[49m\u001b[43m)\u001b[49m\u001b[38;5;241;43m.\u001b[39;49m\u001b[43mcpu\u001b[49m\u001b[43m(\u001b[49m\u001b[43m)\u001b[49m\u001b[38;5;241;43m.\u001b[39;49m\u001b[43mnumpy\u001b[49m\u001b[43m(\u001b[49m\u001b[43m)\u001b[49m\u001b[43m)\u001b[49m\u001b[43m)\u001b[49m\u001b[43m)\u001b[49m\n\u001b[1;32m      4\u001b[0m femm \u001b[38;5;241m=\u001b[39m femmcreator\u001b[38;5;241m.\u001b[39mFEMM()\n\u001b[1;32m      5\u001b[0m femm\u001b[38;5;241m.\u001b[39mBuild(dipole\u001b[38;5;241m.\u001b[39mget_femminput)\n",
      "\u001b[0;31mTypeError\u001b[0m: get_Dipole_geometry_input.__init__() missing 1 required positional argument: 'totalCurrent'"
     ]
    }
   ],
   "source": [
    "print(*list(*(magnet_params.detach().cpu().numpy())))\n",
    "dipole = magnetdesigner.designer.get_Dipole_geometry_input(*list(*(magnet_params.detach().cpu().numpy())))\n",
    "\n",
    "femm = femmcreator.FEMM()\n",
    "femm.Build(dipole.get_femminput)\n",
    "femm.CreateFEMM('dipole_2')"
   ]
  },
  {
   "cell_type": "markdown",
   "metadata": {},
   "source": []
  },
  {
   "cell_type": "code",
   "execution_count": 83,
   "metadata": {},
   "outputs": [
    {
     "ename": "Exception",
     "evalue": "The areas defined by the coordinates are intersecting.",
     "output_type": "error",
     "traceback": [
      "\u001b[0;31m---------------------------------------------------------------------------\u001b[0m",
      "\u001b[0;31mException\u001b[0m                                 Traceback (most recent call last)",
      "Cell \u001b[0;32mIn[83], line 1\u001b[0m\n\u001b[0;32m----> 1\u001b[0m dipole \u001b[38;5;241m=\u001b[39m \u001b[43mmagnetdesigner\u001b[49m\u001b[38;5;241;43m.\u001b[39;49m\u001b[43mdesigner\u001b[49m\u001b[38;5;241;43m.\u001b[39;49m\u001b[43mget_Dipole_geometry_input\u001b[49m\u001b[43m(\u001b[49m\u001b[38;5;241;43m*\u001b[39;49m\u001b[43m[\u001b[49m\u001b[38;5;241;43m7.9533e-02\u001b[39;49m\u001b[43m,\u001b[49m\u001b[43m \u001b[49m\u001b[38;5;241;43m2.5863e-02\u001b[39;49m\u001b[43m,\u001b[49m\u001b[43m \u001b[49m\u001b[38;5;241;43m4.1452e-03\u001b[39;49m\u001b[43m,\u001b[49m\u001b[43m \u001b[49m\u001b[38;5;241;43m1.6589e-01\u001b[39;49m\u001b[43m,\u001b[49m\u001b[43m \u001b[49m\u001b[38;5;241;43m1.1816e-01\u001b[39;49m\u001b[43m,\u001b[49m\u001b[43m \u001b[49m\u001b[38;5;241;43m9.4752e-02\u001b[39;49m\u001b[43m,\u001b[49m\u001b[43m \u001b[49m\u001b[38;5;241;43m6.5901e-02\u001b[39;49m\u001b[43m,\u001b[49m\u001b[43m \u001b[49m\u001b[38;5;241;43m1.9823e+03\u001b[39;49m\u001b[43m]\u001b[49m\u001b[43m)\u001b[49m\n\u001b[1;32m      3\u001b[0m femm \u001b[38;5;241m=\u001b[39m femmcreator\u001b[38;5;241m.\u001b[39mFEMM()\n\u001b[1;32m      4\u001b[0m femm\u001b[38;5;241m.\u001b[39mBuild(dipole\u001b[38;5;241m.\u001b[39mget_femminput)\n",
      "File \u001b[0;32m~/florian/magnetdesigner/src/magnetdesigner/designer.py:594\u001b[0m, in \u001b[0;36mget_Dipole_geometry_input.__init__\u001b[0;34m(self, aper_x, aper_y, aper_x_tapering, yoke_x, yoke_y, w, w_leg, totalCurrent, aper_x_taperingstop, aper_y_distFromCoil, safety, shape, name, verbose, symmetry)\u001b[0m\n\u001b[1;32m    592\u001b[0m \u001b[38;5;28mself\u001b[39m\u001b[38;5;241m.\u001b[39msetCoordinates()\n\u001b[1;32m    593\u001b[0m \u001b[38;5;28mself\u001b[39m\u001b[38;5;241m.\u001b[39msetCoilLists()\n\u001b[0;32m--> 594\u001b[0m \u001b[38;5;28;43mself\u001b[39;49m\u001b[38;5;241;43m.\u001b[39;49m\u001b[43msetMagnet\u001b[49m\u001b[43m(\u001b[49m\u001b[38;5;28;43mself\u001b[39;49m\u001b[38;5;241;43m.\u001b[39;49m\u001b[43mname\u001b[49m\u001b[43m)\u001b[49m\n\u001b[1;32m    595\u001b[0m \u001b[38;5;28mself\u001b[39m\u001b[38;5;241m.\u001b[39msetFemminput()\n",
      "File \u001b[0;32m~/florian/magnetdesigner/src/magnetdesigner/designer.py:666\u001b[0m, in \u001b[0;36mget_Dipole_geometry_input.setMagnet\u001b[0;34m(self, name)\u001b[0m\n\u001b[1;32m    663\u001b[0m     \u001b[38;5;28mprint\u001b[39m(\u001b[38;5;124m\"\u001b[39m\u001b[38;5;124msymmetry: \u001b[39m\u001b[38;5;132;01m{}\u001b[39;00m\u001b[38;5;124m\"\u001b[39m\u001b[38;5;241m.\u001b[39mformat(\u001b[38;5;28mself\u001b[39m\u001b[38;5;241m.\u001b[39msymmetry))\n\u001b[1;32m    664\u001b[0m     \u001b[38;5;28mprint\u001b[39m(\u001b[38;5;124m\"\u001b[39m\u001b[38;5;124mlength: \u001b[39m\u001b[38;5;132;01m{}\u001b[39;00m\u001b[38;5;124m\"\u001b[39m\u001b[38;5;241m.\u001b[39mformat(\u001b[38;5;241m1.0\u001b[39m))\n\u001b[0;32m--> 666\u001b[0m \u001b[38;5;28mself\u001b[39m\u001b[38;5;241m.\u001b[39mmagnet2D \u001b[38;5;241m=\u001b[39m \u001b[43mmagnet2D\u001b[49m\u001b[43m(\u001b[49m\u001b[43mname\u001b[49m\u001b[43m,\u001b[49m\u001b[43m \u001b[49m\u001b[38;5;28;43mself\u001b[39;49m\u001b[38;5;241;43m.\u001b[39;49m\u001b[43myokeCoords\u001b[49m\u001b[43m,\u001b[49m\u001b[43m \u001b[49m\u001b[38;5;28;43mself\u001b[39;49m\u001b[38;5;241;43m.\u001b[39;49m\u001b[43mcoilCoords\u001b[49m\u001b[43m,\u001b[49m\u001b[43m \u001b[49m\u001b[38;5;28;43mself\u001b[39;49m\u001b[38;5;241;43m.\u001b[39;49m\u001b[43mcoilWindings\u001b[49m\u001b[43m,\u001b[49m\u001b[43m \u001b[49m\u001b[38;5;28;43mself\u001b[39;49m\u001b[38;5;241;43m.\u001b[39;49m\u001b[43mcoilCurrents\u001b[49m\u001b[43m,\u001b[49m\u001b[43m \u001b[49m\u001b[43msymmetry\u001b[49m\u001b[38;5;241;43m=\u001b[39;49m\u001b[38;5;28;43mself\u001b[39;49m\u001b[38;5;241;43m.\u001b[39;49m\u001b[43msymmetry\u001b[49m\u001b[43m,\u001b[49m\u001b[43m \u001b[49m\u001b[43mfillfactor\u001b[49m\u001b[38;5;241;43m=\u001b[39;49m\u001b[38;5;28;43mself\u001b[39;49m\u001b[38;5;241;43m.\u001b[39;49m\u001b[43mfillfactor\u001b[49m\u001b[43m)\u001b[49m\n",
      "File \u001b[0;32m~/florian/magnetdesigner/src/magnetdesigner/designer.py:63\u001b[0m, in \u001b[0;36mmagnet2D.__init__\u001b[0;34m(self, name, yokeCoords, coilCoords, coilWindings, coilCurrents, material_yoke, material_coil, symmetry, fillfactor, length)\u001b[0m\n\u001b[1;32m     52\u001b[0m \u001b[38;5;250m\u001b[39m\u001b[38;5;124;03m\"\"\"\u001b[39;00m\n\u001b[1;32m     53\u001b[0m \u001b[38;5;124;03myokeCoords: list of numpy arrays, each array contains the coordinates of the yoke\u001b[39;00m\n\u001b[1;32m     54\u001b[0m \u001b[38;5;124;03mcoilCoords: list of numpy arrays, each array contains the coordinates of the coil\u001b[39;00m\n\u001b[0;32m   (...)\u001b[0m\n\u001b[1;32m     60\u001b[0m \u001b[38;5;124;03mlength: float, the length of the magnet\u001b[39;00m\n\u001b[1;32m     61\u001b[0m \u001b[38;5;124;03m\"\"\"\u001b[39;00m\n\u001b[1;32m     62\u001b[0m \u001b[38;5;28mself\u001b[39m\u001b[38;5;241m.\u001b[39mname \u001b[38;5;241m=\u001b[39m name\n\u001b[0;32m---> 63\u001b[0m \u001b[38;5;28;43mself\u001b[39;49m\u001b[38;5;241;43m.\u001b[39;49m\u001b[43mupdate\u001b[49m\u001b[43m(\u001b[49m\u001b[43myokeCoords\u001b[49m\u001b[43m,\u001b[49m\u001b[43m \u001b[49m\u001b[43mcoilCoords\u001b[49m\u001b[43m,\u001b[49m\u001b[43m \u001b[49m\u001b[43mcoilWindings\u001b[49m\u001b[43m,\u001b[49m\u001b[43m \u001b[49m\u001b[43mcoilCurrents\u001b[49m\u001b[43m,\u001b[49m\u001b[43m \u001b[49m\u001b[43mmaterial_yoke\u001b[49m\u001b[43m,\u001b[49m\u001b[43m \u001b[49m\u001b[43mmaterial_coil\u001b[49m\u001b[43m,\u001b[49m\u001b[43m \u001b[49m\u001b[43msymmetry\u001b[49m\u001b[43m,\u001b[49m\u001b[43m \u001b[49m\u001b[43mfillfactor\u001b[49m\u001b[43m,\u001b[49m\u001b[43m \u001b[49m\u001b[43mlength\u001b[49m\u001b[43m)\u001b[49m\n",
      "File \u001b[0;32m~/florian/magnetdesigner/src/magnetdesigner/designer.py:67\u001b[0m, in \u001b[0;36mmagnet2D.update\u001b[0;34m(self, yokeCoords, coilCoords, coilWindings, coilCurrents, material_yoke, material_coil, symmetry, fillfactor, length)\u001b[0m\n\u001b[1;32m     65\u001b[0m \u001b[38;5;28;01mdef\u001b[39;00m \u001b[38;5;21mupdate\u001b[39m(\u001b[38;5;28mself\u001b[39m, yokeCoords, coilCoords, coilWindings, coilCurrents, material_yoke, material_coil, symmetry, fillfactor, length):\n\u001b[1;32m     66\u001b[0m     \u001b[38;5;66;03m# check if the inputs are valid\u001b[39;00m\n\u001b[0;32m---> 67\u001b[0m     \u001b[38;5;28;43mself\u001b[39;49m\u001b[38;5;241;43m.\u001b[39;49m\u001b[43mchecks\u001b[49m\u001b[43m(\u001b[49m\u001b[43myokeCoords\u001b[49m\u001b[43m,\u001b[49m\u001b[43m \u001b[49m\u001b[43mcoilCoords\u001b[49m\u001b[43m,\u001b[49m\u001b[43m \u001b[49m\u001b[43mcoilWindings\u001b[49m\u001b[43m,\u001b[49m\u001b[43m \u001b[49m\u001b[43mcoilCurrents\u001b[49m\u001b[43m,\u001b[49m\u001b[43m \u001b[49m\u001b[43mmaterial_yoke\u001b[49m\u001b[43m,\u001b[49m\u001b[43m \u001b[49m\u001b[43mmaterial_coil\u001b[49m\u001b[43m,\u001b[49m\u001b[43m \u001b[49m\u001b[43msymmetry\u001b[49m\u001b[43m,\u001b[49m\u001b[43m \u001b[49m\u001b[43mlength\u001b[49m\u001b[43m)\u001b[49m\n\u001b[1;32m     69\u001b[0m     \u001b[38;5;66;03m# properties\u001b[39;00m\n\u001b[1;32m     70\u001b[0m     \u001b[38;5;28mself\u001b[39m\u001b[38;5;241m.\u001b[39myokeCoords \u001b[38;5;241m=\u001b[39m yokeCoords                                                \u001b[38;5;66;03m# in m\u001b[39;00m\n",
      "File \u001b[0;32m~/florian/magnetdesigner/src/magnetdesigner/designer.py:104\u001b[0m, in \u001b[0;36mmagnet2D.checks\u001b[0;34m(self, yokeCoords, coilCoords, coilWindings, coilCurrents, material_yoke, material_coil, symmetry, length)\u001b[0m\n\u001b[1;32m    102\u001b[0m     \u001b[38;5;28;01mfor\u001b[39;00m j \u001b[38;5;129;01min\u001b[39;00m \u001b[38;5;28mrange\u001b[39m(i\u001b[38;5;241m+\u001b[39m\u001b[38;5;241m1\u001b[39m, \u001b[38;5;28mlen\u001b[39m(coordlist)):\n\u001b[1;32m    103\u001b[0m         \u001b[38;5;28;01mif\u001b[39;00m _mpath\u001b[38;5;241m.\u001b[39mPath(coordlist[i])\u001b[38;5;241m.\u001b[39mintersects_path(_mpath\u001b[38;5;241m.\u001b[39mPath(coordlist[j])):\n\u001b[0;32m--> 104\u001b[0m             \u001b[38;5;28;01mraise\u001b[39;00m \u001b[38;5;167;01mException\u001b[39;00m(\u001b[38;5;124m\"\u001b[39m\u001b[38;5;124mThe areas defined by the coordinates are intersecting.\u001b[39m\u001b[38;5;124m\"\u001b[39m)\n\u001b[1;32m    105\u001b[0m \u001b[38;5;66;03m# check if the symmetry is valid\u001b[39;00m\n\u001b[1;32m    106\u001b[0m \u001b[38;5;28;01mif\u001b[39;00m symmetry \u001b[38;5;129;01mnot\u001b[39;00m \u001b[38;5;129;01min\u001b[39;00m _symmetry:\n",
      "\u001b[0;31mException\u001b[0m: The areas defined by the coordinates are intersecting."
     ]
    }
   ],
   "source": [
    "dipole = magnetdesigner.designer.get_Dipole_geometry_input(*[7.9533e-02, 2.5863e-02, 4.1452e-03, 1.6589e-01, 1.1816e-01, 9.4752e-02, 6.5901e-02, 1.9823e+03])\n",
    "\n",
    "femm = femmcreator.FEMM()\n",
    "femm.Build(dipole.get_femminput)\n",
    "femm.CreateFEMM('dipole_2')"
   ]
  },
  {
   "cell_type": "code",
   "execution_count": 33,
   "metadata": {},
   "outputs": [],
   "source": [
    "group = dataset_train.dataframe[(dataset_train.dataframe[\"yoke_x\"]==1.4824975) & \n",
    "                        (dataset_train.dataframe[\"yoke_y\"]==0.783038) &\n",
    "                        (dataset_train.dataframe[\"aper_x\"]==0.3) &\n",
    "                        (dataset_train.dataframe[\"aper_y\"]==0.075)][important_cols + [\"B0\"]]"
   ]
  },
  {
   "cell_type": "code",
   "execution_count": 34,
   "metadata": {},
   "outputs": [
    {
     "data": {
      "text/html": [
       "<div>\n",
       "<style scoped>\n",
       "    .dataframe tbody tr th:only-of-type {\n",
       "        vertical-align: middle;\n",
       "    }\n",
       "\n",
       "    .dataframe tbody tr th {\n",
       "        vertical-align: top;\n",
       "    }\n",
       "\n",
       "    .dataframe thead th {\n",
       "        text-align: right;\n",
       "    }\n",
       "</style>\n",
       "<table border=\"1\" class=\"dataframe\">\n",
       "  <thead>\n",
       "    <tr style=\"text-align: right;\">\n",
       "      <th></th>\n",
       "      <th>aper_x</th>\n",
       "      <th>aper_y</th>\n",
       "      <th>aper_x_tapering</th>\n",
       "      <th>yoke_x</th>\n",
       "      <th>yoke_y</th>\n",
       "      <th>w</th>\n",
       "      <th>w_leg</th>\n",
       "      <th>totalCurrent</th>\n",
       "      <th>B0</th>\n",
       "    </tr>\n",
       "  </thead>\n",
       "  <tbody>\n",
       "    <tr>\n",
       "      <th>49826</th>\n",
       "      <td>0.3</td>\n",
       "      <td>0.075</td>\n",
       "      <td>0.011368</td>\n",
       "      <td>1.482498</td>\n",
       "      <td>0.783038</td>\n",
       "      <td>0.527358</td>\n",
       "      <td>0.226836</td>\n",
       "      <td>10742.958653</td>\n",
       "      <td>0.358991</td>\n",
       "    </tr>\n",
       "    <tr>\n",
       "      <th>49828</th>\n",
       "      <td>0.3</td>\n",
       "      <td>0.075</td>\n",
       "      <td>0.011368</td>\n",
       "      <td>1.482498</td>\n",
       "      <td>0.783038</td>\n",
       "      <td>0.527358</td>\n",
       "      <td>0.226836</td>\n",
       "      <td>17904.931088</td>\n",
       "      <td>0.598375</td>\n",
       "    </tr>\n",
       "    <tr>\n",
       "      <th>49832</th>\n",
       "      <td>0.3</td>\n",
       "      <td>0.075</td>\n",
       "      <td>0.011368</td>\n",
       "      <td>1.482498</td>\n",
       "      <td>0.783038</td>\n",
       "      <td>0.527358</td>\n",
       "      <td>0.226836</td>\n",
       "      <td>32228.875959</td>\n",
       "      <td>1.061886</td>\n",
       "    </tr>\n",
       "    <tr>\n",
       "      <th>49827</th>\n",
       "      <td>0.3</td>\n",
       "      <td>0.075</td>\n",
       "      <td>0.011368</td>\n",
       "      <td>1.482498</td>\n",
       "      <td>0.783038</td>\n",
       "      <td>0.527358</td>\n",
       "      <td>0.226836</td>\n",
       "      <td>14323.944870</td>\n",
       "      <td>0.478710</td>\n",
       "    </tr>\n",
       "    <tr>\n",
       "      <th>49829</th>\n",
       "      <td>0.3</td>\n",
       "      <td>0.075</td>\n",
       "      <td>0.011368</td>\n",
       "      <td>1.482498</td>\n",
       "      <td>0.783038</td>\n",
       "      <td>0.527358</td>\n",
       "      <td>0.226836</td>\n",
       "      <td>21485.917306</td>\n",
       "      <td>0.717982</td>\n",
       "    </tr>\n",
       "    <tr>\n",
       "      <th>49835</th>\n",
       "      <td>0.3</td>\n",
       "      <td>0.075</td>\n",
       "      <td>0.011368</td>\n",
       "      <td>1.482498</td>\n",
       "      <td>0.783038</td>\n",
       "      <td>0.527358</td>\n",
       "      <td>0.226836</td>\n",
       "      <td>42971.834611</td>\n",
       "      <td>1.296217</td>\n",
       "    </tr>\n",
       "    <tr>\n",
       "      <th>49830</th>\n",
       "      <td>0.3</td>\n",
       "      <td>0.075</td>\n",
       "      <td>0.011368</td>\n",
       "      <td>1.482498</td>\n",
       "      <td>0.783038</td>\n",
       "      <td>0.527358</td>\n",
       "      <td>0.226836</td>\n",
       "      <td>25066.903523</td>\n",
       "      <td>0.836991</td>\n",
       "    </tr>\n",
       "    <tr>\n",
       "      <th>49824</th>\n",
       "      <td>0.3</td>\n",
       "      <td>0.075</td>\n",
       "      <td>0.011368</td>\n",
       "      <td>1.482498</td>\n",
       "      <td>0.783038</td>\n",
       "      <td>0.527358</td>\n",
       "      <td>0.226836</td>\n",
       "      <td>3580.986218</td>\n",
       "      <td>0.119470</td>\n",
       "    </tr>\n",
       "    <tr>\n",
       "      <th>49834</th>\n",
       "      <td>0.3</td>\n",
       "      <td>0.075</td>\n",
       "      <td>0.011368</td>\n",
       "      <td>1.482498</td>\n",
       "      <td>0.783038</td>\n",
       "      <td>0.527358</td>\n",
       "      <td>0.226836</td>\n",
       "      <td>39390.848394</td>\n",
       "      <td>1.233042</td>\n",
       "    </tr>\n",
       "    <tr>\n",
       "      <th>49825</th>\n",
       "      <td>0.3</td>\n",
       "      <td>0.075</td>\n",
       "      <td>0.011368</td>\n",
       "      <td>1.482498</td>\n",
       "      <td>0.783038</td>\n",
       "      <td>0.527358</td>\n",
       "      <td>0.226836</td>\n",
       "      <td>7161.972435</td>\n",
       "      <td>0.239236</td>\n",
       "    </tr>\n",
       "  </tbody>\n",
       "</table>\n",
       "</div>"
      ],
      "text/plain": [
       "       aper_x  aper_y  aper_x_tapering    yoke_x    yoke_y         w  \\\n",
       "49826     0.3   0.075         0.011368  1.482498  0.783038  0.527358   \n",
       "49828     0.3   0.075         0.011368  1.482498  0.783038  0.527358   \n",
       "49832     0.3   0.075         0.011368  1.482498  0.783038  0.527358   \n",
       "49827     0.3   0.075         0.011368  1.482498  0.783038  0.527358   \n",
       "49829     0.3   0.075         0.011368  1.482498  0.783038  0.527358   \n",
       "49835     0.3   0.075         0.011368  1.482498  0.783038  0.527358   \n",
       "49830     0.3   0.075         0.011368  1.482498  0.783038  0.527358   \n",
       "49824     0.3   0.075         0.011368  1.482498  0.783038  0.527358   \n",
       "49834     0.3   0.075         0.011368  1.482498  0.783038  0.527358   \n",
       "49825     0.3   0.075         0.011368  1.482498  0.783038  0.527358   \n",
       "\n",
       "          w_leg  totalCurrent        B0  \n",
       "49826  0.226836  10742.958653  0.358991  \n",
       "49828  0.226836  17904.931088  0.598375  \n",
       "49832  0.226836  32228.875959  1.061886  \n",
       "49827  0.226836  14323.944870  0.478710  \n",
       "49829  0.226836  21485.917306  0.717982  \n",
       "49835  0.226836  42971.834611  1.296217  \n",
       "49830  0.226836  25066.903523  0.836991  \n",
       "49824  0.226836   3580.986218  0.119470  \n",
       "49834  0.226836  39390.848394  1.233042  \n",
       "49825  0.226836   7161.972435  0.239236  "
      ]
     },
     "execution_count": 34,
     "metadata": {},
     "output_type": "execute_result"
    }
   ],
   "source": [
    "group"
   ]
  },
  {
   "cell_type": "code",
   "execution_count": 35,
   "metadata": {},
   "outputs": [
    {
     "name": "stderr",
     "output_type": "stream",
     "text": [
      "/tmp/ipykernel_545031/718775392.py:4: FutureWarning: Series.__getitem__ treating keys as positions is deprecated. In a future version, integer keys will always be treated as labels (consistent with DataFrame behavior). To access a value by position, use `ser.iloc[pos]`\n",
      "  inp = torch.tensor(r[important_cols],device=device,dtype=torch.double).unsqueeze(0)\n",
      "/tmp/ipykernel_545031/718775392.py:4: FutureWarning: Series.__getitem__ treating keys as positions is deprecated. In a future version, integer keys will always be treated as labels (consistent with DataFrame behavior). To access a value by position, use `ser.iloc[pos]`\n",
      "  inp = torch.tensor(r[important_cols],device=device,dtype=torch.double).unsqueeze(0)\n",
      "/tmp/ipykernel_545031/718775392.py:4: FutureWarning: Series.__getitem__ treating keys as positions is deprecated. In a future version, integer keys will always be treated as labels (consistent with DataFrame behavior). To access a value by position, use `ser.iloc[pos]`\n",
      "  inp = torch.tensor(r[important_cols],device=device,dtype=torch.double).unsqueeze(0)\n",
      "/tmp/ipykernel_545031/718775392.py:4: FutureWarning: Series.__getitem__ treating keys as positions is deprecated. In a future version, integer keys will always be treated as labels (consistent with DataFrame behavior). To access a value by position, use `ser.iloc[pos]`\n",
      "  inp = torch.tensor(r[important_cols],device=device,dtype=torch.double).unsqueeze(0)\n",
      "/tmp/ipykernel_545031/718775392.py:4: FutureWarning: Series.__getitem__ treating keys as positions is deprecated. In a future version, integer keys will always be treated as labels (consistent with DataFrame behavior). To access a value by position, use `ser.iloc[pos]`\n",
      "  inp = torch.tensor(r[important_cols],device=device,dtype=torch.double).unsqueeze(0)\n",
      "/tmp/ipykernel_545031/718775392.py:4: FutureWarning: Series.__getitem__ treating keys as positions is deprecated. In a future version, integer keys will always be treated as labels (consistent with DataFrame behavior). To access a value by position, use `ser.iloc[pos]`\n",
      "  inp = torch.tensor(r[important_cols],device=device,dtype=torch.double).unsqueeze(0)\n",
      "/tmp/ipykernel_545031/718775392.py:4: FutureWarning: Series.__getitem__ treating keys as positions is deprecated. In a future version, integer keys will always be treated as labels (consistent with DataFrame behavior). To access a value by position, use `ser.iloc[pos]`\n",
      "  inp = torch.tensor(r[important_cols],device=device,dtype=torch.double).unsqueeze(0)\n",
      "/tmp/ipykernel_545031/718775392.py:4: FutureWarning: Series.__getitem__ treating keys as positions is deprecated. In a future version, integer keys will always be treated as labels (consistent with DataFrame behavior). To access a value by position, use `ser.iloc[pos]`\n",
      "  inp = torch.tensor(r[important_cols],device=device,dtype=torch.double).unsqueeze(0)\n",
      "/tmp/ipykernel_545031/718775392.py:4: FutureWarning: Series.__getitem__ treating keys as positions is deprecated. In a future version, integer keys will always be treated as labels (consistent with DataFrame behavior). To access a value by position, use `ser.iloc[pos]`\n",
      "  inp = torch.tensor(r[important_cols],device=device,dtype=torch.double).unsqueeze(0)\n",
      "/tmp/ipykernel_545031/718775392.py:4: FutureWarning: Series.__getitem__ treating keys as positions is deprecated. In a future version, integer keys will always be treated as labels (consistent with DataFrame behavior). To access a value by position, use `ser.iloc[pos]`\n",
      "  inp = torch.tensor(r[important_cols],device=device,dtype=torch.double).unsqueeze(0)\n"
     ]
    },
    {
     "data": {
      "text/html": [
       "<div>\n",
       "<style scoped>\n",
       "    .dataframe tbody tr th:only-of-type {\n",
       "        vertical-align: middle;\n",
       "    }\n",
       "\n",
       "    .dataframe tbody tr th {\n",
       "        vertical-align: top;\n",
       "    }\n",
       "\n",
       "    .dataframe thead th {\n",
       "        text-align: right;\n",
       "    }\n",
       "</style>\n",
       "<table border=\"1\" class=\"dataframe\">\n",
       "  <thead>\n",
       "    <tr style=\"text-align: right;\">\n",
       "      <th></th>\n",
       "      <th>aper_x</th>\n",
       "      <th>aper_y</th>\n",
       "      <th>aper_x_tapering</th>\n",
       "      <th>yoke_x</th>\n",
       "      <th>yoke_y</th>\n",
       "      <th>w</th>\n",
       "      <th>w_leg</th>\n",
       "      <th>totalCurrent</th>\n",
       "      <th>B0</th>\n",
       "      <th>pred</th>\n",
       "    </tr>\n",
       "  </thead>\n",
       "  <tbody>\n",
       "    <tr>\n",
       "      <th>49826</th>\n",
       "      <td>0.3</td>\n",
       "      <td>0.075</td>\n",
       "      <td>0.011368</td>\n",
       "      <td>1.482498</td>\n",
       "      <td>0.783038</td>\n",
       "      <td>0.527358</td>\n",
       "      <td>0.226836</td>\n",
       "      <td>10742.958653</td>\n",
       "      <td>0.358991</td>\n",
       "      <td>0.382447</td>\n",
       "    </tr>\n",
       "    <tr>\n",
       "      <th>49828</th>\n",
       "      <td>0.3</td>\n",
       "      <td>0.075</td>\n",
       "      <td>0.011368</td>\n",
       "      <td>1.482498</td>\n",
       "      <td>0.783038</td>\n",
       "      <td>0.527358</td>\n",
       "      <td>0.226836</td>\n",
       "      <td>17904.931088</td>\n",
       "      <td>0.598375</td>\n",
       "      <td>0.607707</td>\n",
       "    </tr>\n",
       "    <tr>\n",
       "      <th>49832</th>\n",
       "      <td>0.3</td>\n",
       "      <td>0.075</td>\n",
       "      <td>0.011368</td>\n",
       "      <td>1.482498</td>\n",
       "      <td>0.783038</td>\n",
       "      <td>0.527358</td>\n",
       "      <td>0.226836</td>\n",
       "      <td>32228.875959</td>\n",
       "      <td>1.061886</td>\n",
       "      <td>1.029647</td>\n",
       "    </tr>\n",
       "    <tr>\n",
       "      <th>49827</th>\n",
       "      <td>0.3</td>\n",
       "      <td>0.075</td>\n",
       "      <td>0.011368</td>\n",
       "      <td>1.482498</td>\n",
       "      <td>0.783038</td>\n",
       "      <td>0.527358</td>\n",
       "      <td>0.226836</td>\n",
       "      <td>14323.944870</td>\n",
       "      <td>0.478710</td>\n",
       "      <td>0.495079</td>\n",
       "    </tr>\n",
       "    <tr>\n",
       "      <th>49829</th>\n",
       "      <td>0.3</td>\n",
       "      <td>0.075</td>\n",
       "      <td>0.011368</td>\n",
       "      <td>1.482498</td>\n",
       "      <td>0.783038</td>\n",
       "      <td>0.527358</td>\n",
       "      <td>0.226836</td>\n",
       "      <td>21485.917306</td>\n",
       "      <td>0.717982</td>\n",
       "      <td>0.720334</td>\n",
       "    </tr>\n",
       "    <tr>\n",
       "      <th>49835</th>\n",
       "      <td>0.3</td>\n",
       "      <td>0.075</td>\n",
       "      <td>0.011368</td>\n",
       "      <td>1.482498</td>\n",
       "      <td>0.783038</td>\n",
       "      <td>0.527358</td>\n",
       "      <td>0.226836</td>\n",
       "      <td>42971.834611</td>\n",
       "      <td>1.296217</td>\n",
       "      <td>1.369518</td>\n",
       "    </tr>\n",
       "    <tr>\n",
       "      <th>49830</th>\n",
       "      <td>0.3</td>\n",
       "      <td>0.075</td>\n",
       "      <td>0.011368</td>\n",
       "      <td>1.482498</td>\n",
       "      <td>0.783038</td>\n",
       "      <td>0.527358</td>\n",
       "      <td>0.226836</td>\n",
       "      <td>25066.903523</td>\n",
       "      <td>0.836991</td>\n",
       "      <td>0.832960</td>\n",
       "    </tr>\n",
       "    <tr>\n",
       "      <th>49824</th>\n",
       "      <td>0.3</td>\n",
       "      <td>0.075</td>\n",
       "      <td>0.011368</td>\n",
       "      <td>1.482498</td>\n",
       "      <td>0.783038</td>\n",
       "      <td>0.527358</td>\n",
       "      <td>0.226836</td>\n",
       "      <td>3580.986218</td>\n",
       "      <td>0.119470</td>\n",
       "      <td>0.157137</td>\n",
       "    </tr>\n",
       "    <tr>\n",
       "      <th>49834</th>\n",
       "      <td>0.3</td>\n",
       "      <td>0.075</td>\n",
       "      <td>0.011368</td>\n",
       "      <td>1.482498</td>\n",
       "      <td>0.783038</td>\n",
       "      <td>0.527358</td>\n",
       "      <td>0.226836</td>\n",
       "      <td>39390.848394</td>\n",
       "      <td>1.233042</td>\n",
       "      <td>1.244006</td>\n",
       "    </tr>\n",
       "    <tr>\n",
       "      <th>49825</th>\n",
       "      <td>0.3</td>\n",
       "      <td>0.075</td>\n",
       "      <td>0.011368</td>\n",
       "      <td>1.482498</td>\n",
       "      <td>0.783038</td>\n",
       "      <td>0.527358</td>\n",
       "      <td>0.226836</td>\n",
       "      <td>7161.972435</td>\n",
       "      <td>0.239236</td>\n",
       "      <td>0.269808</td>\n",
       "    </tr>\n",
       "  </tbody>\n",
       "</table>\n",
       "</div>"
      ],
      "text/plain": [
       "       aper_x  aper_y  aper_x_tapering    yoke_x    yoke_y         w  \\\n",
       "49826     0.3   0.075         0.011368  1.482498  0.783038  0.527358   \n",
       "49828     0.3   0.075         0.011368  1.482498  0.783038  0.527358   \n",
       "49832     0.3   0.075         0.011368  1.482498  0.783038  0.527358   \n",
       "49827     0.3   0.075         0.011368  1.482498  0.783038  0.527358   \n",
       "49829     0.3   0.075         0.011368  1.482498  0.783038  0.527358   \n",
       "49835     0.3   0.075         0.011368  1.482498  0.783038  0.527358   \n",
       "49830     0.3   0.075         0.011368  1.482498  0.783038  0.527358   \n",
       "49824     0.3   0.075         0.011368  1.482498  0.783038  0.527358   \n",
       "49834     0.3   0.075         0.011368  1.482498  0.783038  0.527358   \n",
       "49825     0.3   0.075         0.011368  1.482498  0.783038  0.527358   \n",
       "\n",
       "          w_leg  totalCurrent        B0      pred  \n",
       "49826  0.226836  10742.958653  0.358991  0.382447  \n",
       "49828  0.226836  17904.931088  0.598375  0.607707  \n",
       "49832  0.226836  32228.875959  1.061886  1.029647  \n",
       "49827  0.226836  14323.944870  0.478710  0.495079  \n",
       "49829  0.226836  21485.917306  0.717982  0.720334  \n",
       "49835  0.226836  42971.834611  1.296217  1.369518  \n",
       "49830  0.226836  25066.903523  0.836991  0.832960  \n",
       "49824  0.226836   3580.986218  0.119470  0.157137  \n",
       "49834  0.226836  39390.848394  1.233042  1.244006  \n",
       "49825  0.226836   7161.972435  0.239236  0.269808  "
      ]
     },
     "execution_count": 35,
     "metadata": {},
     "output_type": "execute_result"
    }
   ],
   "source": [
    "network.eval()\n",
    "\n",
    "def fun(r):\n",
    "    inp = torch.tensor(r[important_cols],device=device,dtype=torch.double).unsqueeze(0)\n",
    "    pred = network(inp).cpu().detach()[0,0].item()\n",
    "    return pred\n",
    "\n",
    "group.assign(pred=group.apply( lambda r: fun(r) ,axis=1))"
   ]
  },
  {
   "cell_type": "code",
   "execution_count": 154,
   "metadata": {},
   "outputs": [
    {
     "data": {
      "text/plain": [
       "aper_x                8\n",
       "aper_y                8\n",
       "aper_x_tapering      40\n",
       "yoke_x             4983\n",
       "yoke_y             4983\n",
       "w                    40\n",
       "w_leg               925\n",
       "totalCurrent        162\n",
       "dtype: int64"
      ]
     },
     "execution_count": 154,
     "metadata": {},
     "output_type": "execute_result"
    }
   ],
   "source": [
    "dataset_train.dataframe.nunique()[important_cols]"
   ]
  },
  {
   "cell_type": "code",
   "execution_count": 187,
   "metadata": {},
   "outputs": [
    {
     "data": {
      "text/plain": [
       "array([ 2., 10.,  4.,  6.])"
      ]
     },
     "execution_count": 187,
     "metadata": {},
     "output_type": "execute_result"
    }
   ],
   "source": [
    "dataset_train.dataframe[\"maxCurrentDensity\"].unique()"
   ]
  },
  {
   "cell_type": "code",
   "execution_count": null,
   "metadata": {},
   "outputs": [],
   "source": []
  }
 ],
 "metadata": {
  "kernelspec": {
   "display_name": "myVenv",
   "language": "python",
   "name": "python3"
  },
  "language_info": {
   "codemirror_mode": {
    "name": "ipython",
    "version": 3
   },
   "file_extension": ".py",
   "mimetype": "text/x-python",
   "name": "python",
   "nbconvert_exporter": "python",
   "pygments_lexer": "ipython3",
   "version": "3.10.14"
  }
 },
 "nbformat": 4,
 "nbformat_minor": 2
}
