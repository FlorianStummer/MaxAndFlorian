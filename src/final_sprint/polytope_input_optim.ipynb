{
 "cells": [
  {
   "cell_type": "code",
   "execution_count": 1,
   "metadata": {},
   "outputs": [],
   "source": [
    "import torch\n",
    "import torch.nn as nn\n",
    "import scipy.optimize as optimize\n",
    "import data.datasets as dataSource\n",
    "import torch.utils.data as tdata\n",
    "import numpy as np\n",
    "import cvxpy as cp"
   ]
  },
  {
   "cell_type": "markdown",
   "metadata": {},
   "source": [
    "Designer:\n",
    "- mins and max in dataset, split dataset in two \n",
    "\n",
    "Here: \n",
    "- get Mask with \"important_columns\"\n",
    "- MLP with batchnorm and initial batchnorm (should replace need for scaler)\n",
    "- train + val loop for new network\n",
    "- constraints from min, max\n",
    "- constraints from designer.py in magnetdesigner\n",
    "- project_to_polytope with optimize.minimize (https://stackoverflow.com/questions/17009774/quadratic-program-qp-solver-that-only-depends-on-numpy-scipy)\n",
    "- input optim loop without optimizer:\n",
    "    - loss_fun and tuple of interest as in other pynb\n",
    "    - create x with requires_grad\n",
    "    - for step in steps\n",
    "        - x.grad.zero_()\n",
    "        - for param in network param.grad.zero_()\n",
    "        - forward, loss, backward\n",
    "        - x = x - lr * x.grad\n",
    "        - x = project_to_poly()\n",
    "        - x.requires_grad_(True)    "
   ]
  },
  {
   "cell_type": "code",
   "execution_count": 2,
   "metadata": {},
   "outputs": [],
   "source": [
    "dataset_train, dataset_val = dataSource.Dipole_H_train, dataSource.Dipole_H_val\n",
    "important_cols = [\"aper_x\", \"aper_y\", \"aper_x_poleoverhang\", \"aper_x_tapering\", \"yoke_x\", \"yoke_y\", \"w\", \"w_leg\", \"totalCurrent\"]\n",
    "input_mask = [True if col in important_cols else False for col in dataset_train.input_columns]\n",
    "train_loader, val_loader = tdata.DataLoader(dataset_train,64), tdata.DataLoader(dataset_val,64)\n",
    "\n",
    "target_index_dict = {col:i for i,col in enumerate(dataset_train.target_columns)}\n"
   ]
  },
  {
   "cell_type": "code",
   "execution_count": 3,
   "metadata": {},
   "outputs": [
    {
     "data": {
      "text/plain": [
       "0.49999859875289016"
      ]
     },
     "execution_count": 3,
     "metadata": {},
     "output_type": "execute_result"
    }
   ],
   "source": [
    "np.min(dataset_train.dataframe[\"coil_height\"]/dataset_train.dataframe[\"coil_width\"])"
   ]
  },
  {
   "cell_type": "code",
   "execution_count": 4,
   "metadata": {},
   "outputs": [
    {
     "data": {
      "text/plain": [
       "0.12499975019728285"
      ]
     },
     "execution_count": 4,
     "metadata": {},
     "output_type": "execute_result"
    }
   ],
   "source": [
    "np.min(dataset_train.dataframe[\"totalCurrent\"] / (2*dataset_train.dataframe[\"coil_height\"]**2) /1e6)"
   ]
  },
  {
   "cell_type": "code",
   "execution_count": 5,
   "metadata": {},
   "outputs": [],
   "source": [
    "class MyRegNet(nn.Module):\n",
    "    def __init__(self,h_size=16):\n",
    "        super().__init__()\n",
    "        self.bn0 = nn.BatchNorm1d(len(important_cols), dtype=torch.double)\n",
    "        self.fc1 = nn.Linear(len(important_cols),h_size, dtype=torch.double)\n",
    "        self.nl1 = nn.LeakyReLU()\n",
    "        self.bn1 = nn.BatchNorm1d(h_size, dtype=torch.double)\n",
    "        self.do1 = nn.Dropout1d()\n",
    "        #self.fc2 = nn.Linear(h_size,h_size, dtype=torch.double)\n",
    "        #self.nl2 = nn.LeakyReLU()\n",
    "        #self.bn2 = nn.BatchNorm1d(h_size, dtype=torch.double)\n",
    "        #self.do2 = nn.Dropout1d()\n",
    "        self.fc3 = nn.Linear(h_size,33, dtype=torch.double)\n",
    "    def forward(self,x):\n",
    "        x = self.bn0(x)\n",
    "        x = self.fc1(x)\n",
    "        x = self.nl1(x)\n",
    "        x = self.bn1(x)\n",
    "        x = self.do1(x)\n",
    "        #x = self.fc2(x)\n",
    "        #x = self.nl2(x)\n",
    "        #x = self.bn2(x)\n",
    "        #x = self.do2(x)\n",
    "        x = self.fc3(x)\n",
    "        return x\n",
    "\n",
    "network = MyRegNet()"
   ]
  },
  {
   "cell_type": "code",
   "execution_count": 6,
   "metadata": {},
   "outputs": [],
   "source": [
    "device = torch.device(\"cuda\" if torch.cuda.is_available() else \"cpu\")"
   ]
  },
  {
   "cell_type": "code",
   "execution_count": 7,
   "metadata": {},
   "outputs": [
    {
     "name": "stdout",
     "output_type": "stream",
     "text": [
      "6 tensor(0.0151) tensor(0.0092)\r"
     ]
    },
    {
     "ename": "KeyboardInterrupt",
     "evalue": "",
     "output_type": "error",
     "traceback": [
      "\u001b[0;31m---------------------------------------------------------------------------\u001b[0m",
      "\u001b[0;31mKeyboardInterrupt\u001b[0m                         Traceback (most recent call last)",
      "Cell \u001b[0;32mIn[7], line 14\u001b[0m\n\u001b[1;32m     12\u001b[0m loss \u001b[38;5;241m=\u001b[39m loss_fun(pred,y)\n\u001b[1;32m     13\u001b[0m loss_list\u001b[38;5;241m.\u001b[39mappend(loss\u001b[38;5;241m.\u001b[39mdetach()\u001b[38;5;241m.\u001b[39mitem())\n\u001b[0;32m---> 14\u001b[0m \u001b[43moptim\u001b[49m\u001b[38;5;241;43m.\u001b[39;49m\u001b[43mzero_grad\u001b[49m\u001b[43m(\u001b[49m\u001b[43m)\u001b[49m\n\u001b[1;32m     15\u001b[0m loss\u001b[38;5;241m.\u001b[39mbackward()\n\u001b[1;32m     16\u001b[0m optim\u001b[38;5;241m.\u001b[39mstep()\n",
      "File \u001b[0;32m~/myVenv/lib/python3.10/site-packages/torch/_compile.py:24\u001b[0m, in \u001b[0;36m_disable_dynamo.<locals>.inner\u001b[0;34m(*args, **kwargs)\u001b[0m\n\u001b[1;32m     20\u001b[0m \u001b[38;5;129m@functools\u001b[39m\u001b[38;5;241m.\u001b[39mwraps(fn)\n\u001b[1;32m     21\u001b[0m \u001b[38;5;28;01mdef\u001b[39;00m \u001b[38;5;21minner\u001b[39m(\u001b[38;5;241m*\u001b[39margs, \u001b[38;5;241m*\u001b[39m\u001b[38;5;241m*\u001b[39mkwargs):\n\u001b[1;32m     22\u001b[0m     \u001b[38;5;28;01mimport\u001b[39;00m \u001b[38;5;21;01mtorch\u001b[39;00m\u001b[38;5;21;01m.\u001b[39;00m\u001b[38;5;21;01m_dynamo\u001b[39;00m\n\u001b[0;32m---> 24\u001b[0m     \u001b[38;5;28;01mreturn\u001b[39;00m \u001b[43mtorch\u001b[49m\u001b[38;5;241;43m.\u001b[39;49m\u001b[43m_dynamo\u001b[49m\u001b[38;5;241;43m.\u001b[39;49m\u001b[43mdisable\u001b[49m\u001b[43m(\u001b[49m\u001b[43mfn\u001b[49m\u001b[43m,\u001b[49m\u001b[43m \u001b[49m\u001b[43mrecursive\u001b[49m\u001b[43m)\u001b[49m\u001b[43m(\u001b[49m\u001b[38;5;241;43m*\u001b[39;49m\u001b[43margs\u001b[49m\u001b[43m,\u001b[49m\u001b[43m \u001b[49m\u001b[38;5;241;43m*\u001b[39;49m\u001b[38;5;241;43m*\u001b[39;49m\u001b[43mkwargs\u001b[49m\u001b[43m)\u001b[49m\n",
      "File \u001b[0;32m~/myVenv/lib/python3.10/site-packages/torch/_dynamo/eval_frame.py:328\u001b[0m, in \u001b[0;36m_TorchDynamoContext.__call__.<locals>._fn\u001b[0;34m(*args, **kwargs)\u001b[0m\n\u001b[1;32m    326\u001b[0m dynamic_ctx\u001b[38;5;241m.\u001b[39m\u001b[38;5;21m__enter__\u001b[39m()\n\u001b[1;32m    327\u001b[0m \u001b[38;5;28;01mtry\u001b[39;00m:\n\u001b[0;32m--> 328\u001b[0m     \u001b[38;5;28;01mreturn\u001b[39;00m \u001b[43mfn\u001b[49m\u001b[43m(\u001b[49m\u001b[38;5;241;43m*\u001b[39;49m\u001b[43margs\u001b[49m\u001b[43m,\u001b[49m\u001b[43m \u001b[49m\u001b[38;5;241;43m*\u001b[39;49m\u001b[38;5;241;43m*\u001b[39;49m\u001b[43mkwargs\u001b[49m\u001b[43m)\u001b[49m\n\u001b[1;32m    329\u001b[0m \u001b[38;5;28;01mfinally\u001b[39;00m:\n\u001b[1;32m    330\u001b[0m     set_eval_frame(prior)\n",
      "File \u001b[0;32m~/myVenv/lib/python3.10/site-packages/torch/optim/optimizer.py:808\u001b[0m, in \u001b[0;36mOptimizer.zero_grad\u001b[0;34m(self, set_to_none)\u001b[0m\n\u001b[1;32m    806\u001b[0m \u001b[38;5;28;01mif\u001b[39;00m p\u001b[38;5;241m.\u001b[39mgrad \u001b[38;5;129;01mis\u001b[39;00m \u001b[38;5;129;01mnot\u001b[39;00m \u001b[38;5;28;01mNone\u001b[39;00m:\n\u001b[1;32m    807\u001b[0m     \u001b[38;5;28;01mif\u001b[39;00m set_to_none:\n\u001b[0;32m--> 808\u001b[0m         p\u001b[38;5;241m.\u001b[39mgrad \u001b[38;5;241m=\u001b[39m \u001b[38;5;28;01mNone\u001b[39;00m\n\u001b[1;32m    809\u001b[0m     \u001b[38;5;28;01melse\u001b[39;00m:\n\u001b[1;32m    810\u001b[0m         \u001b[38;5;28;01mif\u001b[39;00m p\u001b[38;5;241m.\u001b[39mgrad\u001b[38;5;241m.\u001b[39mgrad_fn \u001b[38;5;129;01mis\u001b[39;00m \u001b[38;5;129;01mnot\u001b[39;00m \u001b[38;5;28;01mNone\u001b[39;00m:\n",
      "\u001b[0;31mKeyboardInterrupt\u001b[0m: "
     ]
    }
   ],
   "source": [
    "n_epochs = 100\n",
    "lr = 1e-4\n",
    "optim = torch.optim.Adam(network.parameters(), lr)\n",
    "loss_fun = nn.MSELoss()\n",
    "\n",
    "for epoch in range(n_epochs):\n",
    "    network.train()\n",
    "    loss_list = []\n",
    "    for x,y in train_loader:\n",
    "        selected_x = x[:,input_mask].double()\n",
    "        pred = network(selected_x)\n",
    "        loss = loss_fun(pred,y)\n",
    "        loss_list.append(loss.detach().item())\n",
    "        optim.zero_grad()\n",
    "        loss.backward()\n",
    "        optim.step()\n",
    "    epoch_train_loss = torch.tensor(loss_list).mean()\n",
    "\n",
    "    network.eval()\n",
    "    loss_list = []\n",
    "    for x,y in val_loader:\n",
    "        selected_x = x[:,input_mask].double()\n",
    "        pred = network(selected_x)\n",
    "        loss = loss_fun(pred,y)\n",
    "        loss_list.append(loss.detach().item())\n",
    "    epoch_val_loss = torch.tensor(loss_list).mean()\n",
    "    print(epoch,epoch_train_loss,epoch_val_loss,end=\"\\r\")\n"
   ]
  },
  {
   "cell_type": "code",
   "execution_count": 8,
   "metadata": {},
   "outputs": [],
   "source": [
    "A = []\n",
    "b = []\n",
    "\n",
    "def onehot(name, neg):\n",
    "    out = [0] * len(important_cols)\n",
    "    out[important_cols.index(name)] = -1 if neg else 1\n",
    "    return out\n",
    "\n",
    "for name in important_cols:\n",
    "    # constraints for minima: x > a --> -x < -a\n",
    "    A.append(onehot(name,True))\n",
    "    b.append(-dataset_train.input_mins[name])\n",
    "    \n",
    "    # constraints for maxima: x < a\n",
    "    A.append(onehot(name,False))\n",
    "    b.append(dataset_train.input_maxs[name])"
   ]
  },
  {
   "cell_type": "code",
   "execution_count": 19,
   "metadata": {},
   "outputs": [],
   "source": [
    "A_rel = []\n",
    "b_rel = []\n",
    "\n",
    "# \"aper_x\", \"aper_y\", \"aper_x_poleoverhang\", \"aper_x_tapering\", \"yoke_x\", \n",
    "# \"yoke_y\", \"w\"     , \"w_leg\"              , \"totalCurrent\"]\n",
    "\n",
    "\n",
    "# aper_x > aper_y --> aper_y - aper_x < 0\n",
    "A_rel.append([-1, 1, 0, 0, 0, 0, 0, 0, 0])\n",
    "b_rel.append(0)\n",
    "\n",
    "# aper_x < 5 * aper_y --> aper_x - 5 * aper_y < 0\n",
    "A_rel.append([1,-5, 0, 0, 0, 0, 0, 0, 0])\n",
    "b_rel.append(0)\n",
    "\n",
    "# w_leg < aper_x --> w_leg - aper_x < 0\n",
    "A_rel.append([-1, 0, 0, 0, 0, 0, 0, 1, 0])\n",
    "b_rel.append(0)\n",
    "\n",
    "## Max-made\n",
    "# w < 6.6*w_leg --> w - 6.6w_leg < 0\n",
    "A_rel.append([ 0, 0, 0, 0, 0, 0, 1,-6.6, 0])\n",
    "b_rel.append(0)\n",
    "\n",
    "# w_leg < 0.83w --> w_leg - 0.83w < 0\n",
    "A_rel.append([ 0, 0, 0, 0, 0, 0,-0.83, 1, 0])\n",
    "b_rel.append(0)\n",
    "\n",
    "# Fix aspect ratio w/h between 1.9 and 2.1\n",
    "# make coils squareish (aspect ratio of no more than 2 --> for sides a and be we have a - 2b < 0 and b - 2a < 0)\n",
    "# coil width = 0.5 yoke_x - 0.5 w - aper_tape - w_leg\n",
    "# coil height = 0.5 yoke_y - 0.6 aper_y - w_leg\n",
    "\n",
    "# c_w/c_h > 1.9 --> 1.9*c_h - c_w < 0 --> \n",
    "#A_rel.append([ 0, -1.14, 0, 1, -0.5, 0.95, 0.5, -0.9, 0])\n",
    "#b_rel.append(0)\n",
    "\n",
    "# c_w/c_h < 2.1 --> c_w - 2.1c_h < 0\n",
    "#A_rel.append([ 0, 1.26, 0, -1, 0.5, 1.05, -0.5, 1.1, 0])\n",
    "#b_rel.append(0)"
   ]
  },
  {
   "cell_type": "code",
   "execution_count": 20,
   "metadata": {},
   "outputs": [],
   "source": [
    "A = A + A_rel\n",
    "b = b + b_rel"
   ]
  },
  {
   "cell_type": "code",
   "execution_count": 21,
   "metadata": {},
   "outputs": [
    {
     "data": {
      "text/plain": [
       "[([-1, 0, 0, 0, 0, 0, 0, 0, 0], -0.025),\n",
       " ([1, 0, 0, 0, 0, 0, 0, 0, 0], 0.3),\n",
       " ([0, -1, 0, 0, 0, 0, 0, 0, 0], -0.025),\n",
       " ([0, 1, 0, 0, 0, 0, 0, 0, 0], 0.3),\n",
       " ([0, 0, -1, 0, 0, 0, 0, 0, 0], -0.0094733),\n",
       " ([0, 0, 1, 0, 0, 0, 0, 0, 0], 0.3623584),\n",
       " ([0, 0, 0, -1, 0, 0, 0, 0, 0], -0.0009473),\n",
       " ([0, 0, 0, 1, 0, 0, 0, 0, 0], 0.0362358),\n",
       " ([0, 0, 0, 0, -1, 0, 0, 0, 0], -0.1647062),\n",
       " ([0, 0, 0, 0, 1, 0, 0, 0, 0], 4.1469032),\n",
       " ([0, 0, 0, 0, 0, -1, 0, 0, 0], -0.0912832),\n",
       " ([0, 0, 0, 0, 0, 1, 0, 0, 0], 2.791676),\n",
       " ([0, 0, 0, 0, 0, 0, -1, 0, 0], -0.0439465),\n",
       " ([0, 0, 0, 0, 0, 0, 1, 0, 0], 1.0247168),\n",
       " ([0, 0, 0, 0, 0, 0, 0, -1, 0], -0.0128003),\n",
       " ([0, 0, 0, 0, 0, 0, 0, 1, 0], 0.9068187),\n",
       " ([0, 0, 0, 0, 0, 0, 0, 0, -1], -397.8873575),\n",
       " ([0, 0, 0, 0, 0, 0, 0, 0, 1], 286478.8974095),\n",
       " ([-1, 1, 0, 0, 0, 0, 0, 0, 0], 0),\n",
       " ([1, -5, 0, 0, 0, 0, 0, 0, 0], 0),\n",
       " ([-1, 0, 0, 0, 0, 0, 0, 1, 0], 0),\n",
       " ([0, 0, 0, 0, 0, 0, 1, -6.6, 0], 0),\n",
       " ([0, 0, 0, 0, 0, 0, -0.83, 1, 0], 0),\n",
       " ([0, -1.14, 0, 1, -0.5, 0.95, 0.5, -0.9, 0], 0),\n",
       " ([0, 1.26, 0, -1, 0.5, 1.05, -0.5, 1.1, 0], 0),\n",
       " ([-1, 1, 0, 0, 0, 0, 0, 0, 0], 0),\n",
       " ([1, -5, 0, 0, 0, 0, 0, 0, 0], 0),\n",
       " ([-1, 0, 0, 0, 0, 0, 0, 1, 0], 0),\n",
       " ([0, 0, 0, 0, 0, 0, 1, -6.6, 0], 0),\n",
       " ([0, 0, 0, 0, 0, 0, -0.83, 1, 0], 0)]"
      ]
     },
     "execution_count": 21,
     "metadata": {},
     "output_type": "execute_result"
    }
   ],
   "source": [
    "list(zip(A,b))"
   ]
  },
  {
   "cell_type": "code",
   "execution_count": 22,
   "metadata": {},
   "outputs": [],
   "source": [
    "#def project_to_poly(x, A_mat=A, b_vec = b):\n",
    "#    def loss(curr_guess):\n",
    "#        return np.linalg.norm(curr_guess-x)\n",
    "#    \n",
    "#    # We know coil_width = 2*coil_height\n",
    "#    # Area = 2 coil_width^2 \n",
    "#\n",
    "#    # currDens = totalCurr / 2 coil_height^2\n",
    "#    # 0.12 < currDens < 7.5 \n",
    "#\n",
    "#    # sqrt(0.12) < sqrt(totalCurr) / (sqrt(2) coil_height) --> coil_height < sqrt(totalCurr) / (sqrt(2)*sqrt(0.12))\n",
    "#    # sqrt(7.5) > sqrt(totalCurr) / (sqrt(2) coil_height)) --> coil_height > sqrt(totalCurr) / (sqrt(2)*sqrt(7.5))\n",
    "#    \n",
    "#    cons = {'type':'ineq','fun':lambda x: b_vec - np.dot(A_mat,x)}\n",
    "#    return optimize.minimize(loss, x,constraints=cons, method='SLSQP').x\n",
    "#\n",
    "##A_test = [[0,1],[1,0]]\n",
    "##b_test = [1,1]\n",
    "##project_to_poly([2,0.1],A_test,b_test)"
   ]
  },
  {
   "cell_type": "code",
   "execution_count": 23,
   "metadata": {},
   "outputs": [
    {
     "data": {
      "text/plain": [
       "array([0.5, 1. ])"
      ]
     },
     "execution_count": 23,
     "metadata": {},
     "output_type": "execute_result"
    }
   ],
   "source": [
    "def project_to_poly2(x, A_mat=A, b_vec = b):\n",
    "    # Define decision variable\n",
    "    p = cp.Variable(len(x))\n",
    "    # Define objective function\n",
    "    objective = cp.Minimize(cp.sum_squares(p - x))\n",
    "\n",
    "    A_mat_dynamic = A_mat[:]\n",
    "    b_vec_dynamic = b_vec[:]\n",
    "\n",
    "\n",
    "    # Define constraints\n",
    "    constraints = [np.array(A_mat) @ p <= np.array(b_vec)]\n",
    "\n",
    "    # Solve the problem\n",
    "    problem = cp.Problem(objective, constraints)\n",
    "    problem.solve()\n",
    "\n",
    "\n",
    "    # Optimal solution\n",
    "    closest_point = p.value\n",
    "    return closest_point\n",
    "\n",
    "A_test = [[0,1],[1,0]]\n",
    "b_test = [1,1]\n",
    "project_to_poly2([0.5,1.2],A_test,b_test)"
   ]
  },
  {
   "cell_type": "code",
   "execution_count": 24,
   "metadata": {},
   "outputs": [],
   "source": [
    "tuple_of_interest = (target_index_dict[\"B0\"], target_index_dict[\"gfr_x_5e-3\"],target_index_dict[\"gfr_y_5e-3\"])\n",
    "\n",
    "target = torch.zeros(1,33,dtype=torch.double)\n",
    "target[0,tuple_of_interest[0]] = 0.079589\n",
    "target[0,tuple_of_interest[1]] = 0.053487\n",
    "target[0,tuple_of_interest[2]] = 0.01\n",
    "\n",
    "def create_loss_function(tuple_of_interest):\n",
    "    mask = torch.zeros(1,33)\n",
    "    for i in tuple_of_interest:\n",
    "        mask[0,i] = 1\n",
    "    mse = torch.nn.MSELoss()\n",
    "    def instanciated_loss_function(x,y):\n",
    "        return mse(x*mask,y*mask)\n",
    "    return instanciated_loss_function\n",
    "\n",
    "loss_fun = create_loss_function(tuple_of_interest)"
   ]
  },
  {
   "cell_type": "code",
   "execution_count": 25,
   "metadata": {},
   "outputs": [
    {
     "data": {
      "text/plain": [
       "tensor([1.8497e-01, 1.1192e-01, 1.3988e-01, 1.3988e-02, 1.3683e+00, 8.1847e-01,\n",
       "        4.6473e-01, 2.4637e-01, 3.7710e+04], dtype=torch.float64)"
      ]
     },
     "execution_count": 25,
     "metadata": {},
     "output_type": "execute_result"
    }
   ],
   "source": [
    "network.bn0.running_mean"
   ]
  },
  {
   "cell_type": "code",
   "execution_count": 28,
   "metadata": {},
   "outputs": [
    {
     "name": "stderr",
     "output_type": "stream",
     "text": [
      "/tmp/ipykernel_137566/606218387.py:2: UserWarning: To copy construct from a tensor, it is recommended to use sourceTensor.clone().detach() or sourceTensor.clone().detach().requires_grad_(True), rather than torch.tensor(sourceTensor).\n",
      "  magnet_params = torch.tensor(network.bn0.running_mean.clone().detach(),dtype=torch.double).unsqueeze(0).requires_grad_(True)\n"
     ]
    },
    {
     "name": "stdout",
     "output_type": "stream",
     "text": [
      "999 0.020540642294698125\r"
     ]
    }
   ],
   "source": [
    "#magnet_params = torch.randn((1,9),dtype=torch.double,requires_grad=True)\n",
    "magnet_params = torch.tensor(network.bn0.running_mean.clone().detach(),dtype=torch.double).unsqueeze(0).requires_grad_(True)\n",
    "lr = 1e-2\n",
    "network.eval()\n",
    "\n",
    "n_steps = 1000\n",
    "\n",
    "for step in range(n_steps):\n",
    "    if magnet_params.grad is not None:\n",
    "        magnet_params.grad.zero_()\n",
    "    for layer in network.parameters():\n",
    "        if layer.grad is not None:\n",
    "            layer.grad.zero_()\n",
    "\n",
    "    pred = network(magnet_params)\n",
    "    loss = loss_fun(pred,target)\n",
    "    print(step,loss.detach().numpy(),end=\"\\r\")\n",
    "    loss.backward()\n",
    "    with torch.no_grad():\n",
    "        magnet_params = magnet_params - lr * network.bn0.running_mean * magnet_params.grad\n",
    "        proj_result = project_to_poly2(magnet_params.squeeze().detach().numpy())\n",
    "        if (proj_result is None):\n",
    "            magnet_params = torch.tensor(magnet_params).requires_grad_(True)\n",
    "        else:        \n",
    "            magnet_params = torch.tensor(proj_result).unsqueeze(0).requires_grad_(True)\n",
    "\n",
    "\n",
    "\n",
    "\n"
   ]
  },
  {
   "cell_type": "code",
   "execution_count": 29,
   "metadata": {},
   "outputs": [
    {
     "data": {
      "text/plain": [
       "tensor([[1.1782e-01, 2.3563e-02, 1.6525e-01, 3.9011e-02, 1.6332e-01, 2.8847e-02,\n",
       "         1.9805e-01, 2.9314e-02, 3.7710e+04]], dtype=torch.float64,\n",
       "       requires_grad=True)"
      ]
     },
     "execution_count": 29,
     "metadata": {},
     "output_type": "execute_result"
    }
   ],
   "source": [
    "magnet_params"
   ]
  },
  {
   "cell_type": "code",
   "execution_count": null,
   "metadata": {},
   "outputs": [],
   "source": []
  },
  {
   "cell_type": "code",
   "execution_count": null,
   "metadata": {},
   "outputs": [],
   "source": []
  }
 ],
 "metadata": {
  "kernelspec": {
   "display_name": "myVenv",
   "language": "python",
   "name": "python3"
  },
  "language_info": {
   "codemirror_mode": {
    "name": "ipython",
    "version": 3
   },
   "file_extension": ".py",
   "mimetype": "text/x-python",
   "name": "python",
   "nbconvert_exporter": "python",
   "pygments_lexer": "ipython3",
   "version": "3.10.12"
  }
 },
 "nbformat": 4,
 "nbformat_minor": 2
}
